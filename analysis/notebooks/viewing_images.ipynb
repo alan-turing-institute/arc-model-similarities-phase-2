{
 "cells": [
  {
   "cell_type": "code",
   "execution_count": null,
   "metadata": {},
   "outputs": [],
   "source": [
    "import numpy as np\n",
    "import matplotlib.pyplot as plt\n",
    "import modsim2.utils.config as config\n",
    "from PIL import Image as pil_img"
   ]
  },
  {
   "cell_type": "code",
   "execution_count": null,
   "metadata": {},
   "outputs": [],
   "source": [
    "# Load sample of CIFAR-10 saved as numpy array\n",
    "np_cifar_10_sample = np.load('../data/cifar_10_sample.npz')\n",
    "np_cifar_10_sample = np_cifar_10_sample['cifar_10']"
   ]
  },
  {
   "cell_type": "code",
   "execution_count": null,
   "metadata": {},
   "outputs": [],
   "source": [
    "def sample_image(images, index):\n",
    "    image = images[index, :]\n",
    "    image = np.moveaxis(image, 0, 2)\n",
    "    return image\n",
    "\n",
    "image_0 = sample_image(np_cifar_10_sample, 0)\n",
    "image_1 = sample_image(np_cifar_10_sample, 2)\n",
    "image_2 = sample_image(np_cifar_10_sample, 5)\n",
    "\n",
    "image_pil_0 = pil_img.fromarray(np.uint8(image_0*255))\n",
    "image_pil_1 = pil_img.fromarray(np.uint8(image_1*255))\n",
    "image_pil_2 = pil_img.fromarray(np.uint8(image_2*255))\n",
    "\n",
    "images = [image_0, image_1, image_2]\n",
    "images_pil = [image_pil_0, image_pil_1, image_pil_2]"
   ]
  },
  {
   "cell_type": "code",
   "execution_count": null,
   "metadata": {},
   "outputs": [],
   "source": [
    "grayscale_transforms = [\n",
    "    {\n",
    "        \"name\": \"Grayscale\",\n",
    "        \"kwargs\":{\n",
    "            \"num_output_channels\": 3\n",
    "        }\n",
    "    },\n",
    "    {\n",
    "        \"name\": \"ToTensor\",\n",
    "    },\n",
    "]\n",
    "\n",
    "littleblur_transforms = [\n",
    "    {\n",
    "        \"name\": \"GaussianBlur\",\n",
    "        \"kwargs\": {\n",
    "            \"kernel_size\": 3,\n",
    "            \"sigma\": 1\n",
    "        }\n",
    "    },\n",
    "    {\n",
    "        \"name\": \"ToTensor\",\n",
    "    },\n",
    "\n",
    "]\n",
    "\n",
    "bigblur_transforms = [\n",
    "    {\n",
    "        \"name\": \"GaussianBlur\",\n",
    "        \"kwargs\": {\n",
    "            \"kernel_size\": 3,\n",
    "            \"sigma\": 3\n",
    "        }\n",
    "    },\n",
    "    {\n",
    "        \"name\": \"ToTensor\",\n",
    "    },\n",
    "]\n",
    "\n",
    "rotate_transforms = [\n",
    "    {\n",
    "        \"name\": \"RandomVerticalFlip\",\n",
    "        \"kwargs\": {\n",
    "            \"p\": 1\n",
    "        }\n",
    "    },\n",
    "    {\n",
    "        \"name\": \"ToTensor\",\n",
    "    },\n",
    "]"
   ]
  },
  {
   "cell_type": "code",
   "execution_count": null,
   "metadata": {},
   "outputs": [],
   "source": [
    "def transform_images(images, transform):\n",
    "    new_images = []\n",
    "    for image in images:\n",
    "        new_image = config.create_transforms(transform)(image)\n",
    "        new_image = new_image.numpy()\n",
    "        new_image = np.moveaxis(new_image, 0, 2)\n",
    "        new_images.append(new_image)\n",
    "    return new_images\n",
    "\n",
    "images_grayscale = transform_images(images_pil, grayscale_transforms)\n",
    "images_littleblur = transform_images(images_pil, littleblur_transforms)\n",
    "images_bigblur = transform_images(images_pil, bigblur_transforms)\n",
    "images_rotate = transform_images(images_pil, rotate_transforms)\n"
   ]
  },
  {
   "cell_type": "code",
   "execution_count": null,
   "metadata": {},
   "outputs": [],
   "source": [
    "def show_image(ax, image, title, cmap=None):\n",
    "    ax.imshow(image, cmap=cmap)\n",
    "    ax.set_title(title)"
   ]
  },
  {
   "cell_type": "code",
   "execution_count": null,
   "metadata": {},
   "outputs": [],
   "source": [
    "fig, ax = plt.subplots(3, 5, figsize = (20, 10))\n",
    "\n",
    "show_image(ax[0,0], images[0], 'No transform')\n",
    "show_image(ax[0,1], images_grayscale[0], 'Grayscale')\n",
    "show_image(ax[0,2], images_littleblur[0], 'Little Blur')\n",
    "show_image(ax[0,3], images_bigblur[0], 'Big Blur')\n",
    "show_image(ax[0,4], images_rotate[0], 'Rotate 180')\n",
    "show_image(ax[1,0], images[1], '')\n",
    "show_image(ax[1,1], images_grayscale[1], '')\n",
    "show_image(ax[1,2], images_littleblur[1], '')\n",
    "show_image(ax[1,3], images_bigblur[1], '')\n",
    "show_image(ax[1,4], images_rotate[1], '')\n",
    "show_image(ax[2,0], images[2], '')\n",
    "show_image(ax[2,1], images_grayscale[2], '')\n",
    "show_image(ax[2,2], images_littleblur[2], '')\n",
    "show_image(ax[2,3], images_bigblur[2], '')\n",
    "show_image(ax[2,4], images_rotate[2], '')\n",
    "\n",
    "fig.savefig('../output/example_transforms.png', bbox_inches='tight')"
   ]
  },
  {
   "cell_type": "code",
   "execution_count": null,
   "metadata": {},
   "outputs": [],
   "source": []
  }
 ],
 "metadata": {
  "kernelspec": {
   "display_name": "arc-model-similarities-phase-2",
   "language": "python",
   "name": "arc-model-similarities-phase-2"
  },
  "language_info": {
   "codemirror_mode": {
    "name": "ipython",
    "version": 3
   },
   "file_extension": ".py",
   "mimetype": "text/x-python",
   "name": "python",
   "nbconvert_exporter": "python",
   "pygments_lexer": "ipython3",
   "version": "3.10.11"
  },
  "orig_nbformat": 4
 },
 "nbformat": 4,
 "nbformat_minor": 2
}
