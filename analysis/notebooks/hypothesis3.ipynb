{
 "cells": [
  {
   "cell_type": "code",
   "execution_count": null,
   "metadata": {},
   "outputs": [],
   "source": [
    "import matplotlib.pyplot as plt\n",
    "import seaborn as sns\n",
    "import preprocessing\n",
    "import plotting_functions as plt_funcs\n",
    "import constants\n",
    "from scipy.stats import pearsonr"
   ]
  },
  {
   "cell_type": "code",
   "execution_count": null,
   "metadata": {},
   "outputs": [],
   "source": [
    "df_results = preprocessing.DF_DATA\n",
    "drop_group_name_order = constants.DROP_GROUP_NAME_ORDER\n",
    "transform_group_order = constants.TRANSFORM_ORDER\n",
    "METRICS_BY_GROUP = constants.DI_METRICS_BY_GROUP\n",
    "EMBEDDINGS = constants.DI_EMBEDDINGS"
   ]
  },
  {
   "cell_type": "code",
   "execution_count": null,
   "metadata": {},
   "outputs": [],
   "source": [
    "sns.set_palette('Paired')\n",
    "sns.color_palette()"
   ]
  },
  {
   "cell_type": "markdown",
   "metadata": {},
   "source": [
    "<H2>Scatter plots for accuracy ratio</H2>"
   ]
  },
  {
   "cell_type": "code",
   "execution_count": null,
   "metadata": {},
   "outputs": [],
   "source": [
    "sns.set_palette('Paired')\n",
    "cp = sns.color_palette()\n",
    "\n",
    "fig, ax = plt.subplots(1,2, figsize=(15,8))\n",
    "\n",
    "ticks = [0, 100, 200, 300, 400, 500, 600, 700, 800, 900, 1000]\n",
    "axmin = 0\n",
    "axmax = 1000\n",
    "common_args = {'xmin': axmin, 'xmax': axmax, 'ymin': axmin, 'ymax': axmax, 'xticks': ticks, 'yticks': ticks, 'hue':'Drop Group Name', 'hue_order':drop_group_name_order, 'style':'Drop Group Name', 'style_order':drop_group_name_order, 'marker_size':100, 'colors':[cp[0], cp[2], cp[3], cp[7], cp[8], cp[9]]}\n",
    "\n",
    "plt_funcs.plot_scatter(df_results, 'B_to_A_metrics.dist_A.base_success_rate', 'B_to_A_metrics.dist_B.base_success_rate', ax[0], 'Model = A', 'Test dataset A - Number of correctly classified records', 'Test dataset B - Number of correctly classified records', **common_args)\n",
    "plt_funcs.plot_scatter(df_results, 'A_to_B_metrics.dist_B.base_success_rate', 'A_to_B_metrics.dist_A.base_success_rate', ax[1], 'Model = B', 'Test dataset B - Number of correctly classified records', 'Test dataset A - Number of correctly classified records', **common_args)\n",
    "\n",
    "sns.lineplot(x=[0,1000], y=[0,1000], ax=ax[0], color='gray', linestyle='dashed')\n",
    "sns.lineplot(x=[0,1000], y=[0,1000], ax=ax[1], color='gray', linestyle='dashed')\n",
    "ax[0].get_legend().remove()\n",
    "ax[1].get_legend().remove()\n",
    "\n",
    "fig.suptitle('Accuracy of test datasets by model', fontsize=15, y=1.01)\n",
    "handles, labels = ax[0].get_legend_handles_labels()\n",
    "fig.legend(handles, labels, loc='upper center', ncol=len(handles), bbox_to_anchor=(0.5, 0.98))\n",
    "fig.tight_layout(rect=[0, 0.01, 1, 0.99])\n",
    "plt.savefig('../output/H4_classifier_similarity_drop_group.png', bbox_inches='tight')"
   ]
  },
  {
   "cell_type": "code",
   "execution_count": null,
   "metadata": {},
   "outputs": [],
   "source": [
    "sns.set_palette('colorblind')\n",
    "fig, ax = plt.subplots(1,2, figsize=(15,8))\n",
    "\n",
    "ticks = [0, 100, 200, 300, 400, 500, 600, 700, 800, 900, 1000]\n",
    "axmin = 0\n",
    "axmax = 1000\n",
    "common_args = {'xmin': axmin, 'xmax': axmax, 'ymin': axmin, 'ymax': axmax, 'xticks': ticks, 'yticks': ticks, 'hue':'Transform Group', 'hue_order':transform_group_order}\n",
    "\n",
    "plt_funcs.plot_scatter(df_results, 'B_to_A_metrics.dist_A.base_success_rate', 'B_to_A_metrics.dist_B.base_success_rate', ax[0], 'Model = A', 'Test dataset A - Number of correctly classified records', 'Test dataset B - Number of correctly classified records', **common_args)\n",
    "plt_funcs.plot_scatter(df_results, 'A_to_B_metrics.dist_B.base_success_rate', 'A_to_B_metrics.dist_A.base_success_rate', ax[1], 'Model = B', 'Test dataset B - Number of correctly classified records', 'Test dataset A - Number of correctly classified records', **common_args)\n",
    "\n",
    "sns.lineplot(x=[0,1000], y=[0,1000], ax=ax[0], color='gray', linestyle='dashed')\n",
    "sns.lineplot(x=[0,1000], y=[0,1000], ax=ax[1], color='gray', linestyle='dashed')\n",
    "ax[0].get_legend().remove()\n",
    "ax[1].get_legend().remove()\n",
    "\n",
    "fig.suptitle('Accuracy of test datasets by model', fontsize=15, y=1.01)\n",
    "handles, labels = ax[0].get_legend_handles_labels()\n",
    "fig.legend(handles, labels, loc='upper center', ncol=len(handles), bbox_to_anchor=(0.5, 0.98))\n",
    "fig.tight_layout(rect=[0, 0.01, 1, 0.99])\n",
    "plt.savefig('../output/H3_classifier_similarity_transform_group.png', bbox_inches='tight')"
   ]
  },
  {
   "cell_type": "code",
   "execution_count": null,
   "metadata": {},
   "outputs": [],
   "source": [
    "fig, ax = plt.subplots(2,2, figsize=(15,15))\n",
    "cp = sns.color_palette()\n",
    "common_args = {'ymin': -0.1, 'ymax':0.7, 'yticks':[-0.1,0,0.1,0.2,0.3,0.4,0.5,0.6,0.7], 'hue':'Transform Group', 'hue_order':transform_group_order}\n",
    "plt_funcs.plot_scatter(df_results, 'A_to_B_metrics.dist_A.L2FastGradientAttack.success_rate', 'A_to_B_dissimilarity', ax[0,0], 'Surrogate A | Target B | Distribution A', 'Transfer attack success rate', 'Target model B accuracy ratio', **common_args)\n",
    "plt_funcs.plot_scatter(df_results, 'A_to_B_metrics.dist_B.L2FastGradientAttack.success_rate', 'A_to_B_dissimilarity', ax[0,1], 'Surrogate A | Target B | Distribution B', 'Transfer attack success rate', 'Target model B accuracy ratio', **common_args)\n",
    "plt_funcs.plot_scatter(df_results, 'B_to_A_metrics.dist_A.L2FastGradientAttack.success_rate', 'B_to_A_dissimilarity', ax[1,0], 'Surrogate B | Target A | Distribution A', 'Transfer attack success rate', 'Target model A accuracy ratio', **common_args)\n",
    "plt_funcs.plot_scatter(df_results, 'B_to_A_metrics.dist_B.L2FastGradientAttack.success_rate', 'B_to_A_dissimilarity', ax[1,1], 'Surrogate B | Target A | Distribution B', 'Transfer attack success rate', 'Target model A accuracy ratio', **common_args)\n",
    "\n",
    "fig.suptitle('Fast Gradient Attack | Success Rate', fontsize=15, y=1.01)\n",
    "handles, labels = ax[0,0].get_legend_handles_labels()\n",
    "fig.legend(handles, labels, loc='upper center', ncol=len(handles), bbox_to_anchor=(0.5, 0.99))\n",
    "fig.tight_layout(rect=[0, 0.01, 1, 0.97])\n",
    "\n",
    "plt.savefig('../output/H3_FGA_classifier_similarity_vs_transfer_attack_success_rate.png', bbox_inches='tight')"
   ]
  },
  {
   "cell_type": "code",
   "execution_count": null,
   "metadata": {},
   "outputs": [],
   "source": [
    "fig, ax = plt.subplots(2,2, figsize=(15,15))\n",
    "\n",
    "cp = sns.color_palette()\n",
    "common_args = {'xmin': -0.05, 'xmax': 0.2, 'xticks': [-0.05, 0, 0.05, 0.1, 0.15, 0.2],'ymin': -0.1, 'ymax':0.7, 'yticks':[-0.1,0,0.1,0.2,0.3,0.4,0.5,0.6,0.7], 'hue':'Transform Group', 'hue_order':transform_group_order}\n",
    "\n",
    "plt_funcs.plot_scatter(df_results, 'A_to_B_metrics.dist_A.BoundaryAttack.success_rate', 'A_to_B_dissimilarity', ax[0,0], 'Surrogate A | Target B | Distribution A', 'Transfer attack success rate', 'Target model B accuracy ratio', **common_args)\n",
    "plt_funcs.plot_scatter(df_results, 'A_to_B_metrics.dist_B.BoundaryAttack.success_rate', 'A_to_B_dissimilarity', ax[0,1], 'Surrogate A | Target B | Distribution B', 'Transfer attack success rate', 'Target model B accuracy ratio', **common_args)\n",
    "plt_funcs.plot_scatter(df_results, 'B_to_A_metrics.dist_A.BoundaryAttack.success_rate', 'B_to_A_dissimilarity', ax[1,0], 'Surrogate B | Target A | Distribution A', 'Transfer attack success rate', 'Target model A accuracy ratio', **common_args)\n",
    "plt_funcs.plot_scatter(df_results, 'B_to_A_metrics.dist_B.BoundaryAttack.success_rate', 'B_to_A_dissimilarity', ax[1,1], 'Surrogate B | Target A | Distribution B', 'Transfer attack success rate', 'Target model A accuracy ratio', **common_args)\n",
    "\n",
    "fig.suptitle('Boundary Attack | Success Rate', fontsize=15, y=1.01)\n",
    "handles, labels = ax[0,0].get_legend_handles_labels()\n",
    "fig.legend(handles, labels, loc='upper center', ncol=len(handles), bbox_to_anchor=(0.5, 0.99))\n",
    "fig.tight_layout(rect=[0, 0.01, 1, 0.97])\n",
    "\n",
    "plt.savefig('../output/H3_BA_classifier_similarity_vs_transfer_attack_success_rate.png', bbox_inches='tight')"
   ]
  },
  {
   "cell_type": "code",
   "execution_count": null,
   "metadata": {},
   "outputs": [],
   "source": [
    "fig, ax = plt.subplots(2,2, figsize=(15,15))\n",
    "\n",
    "cp = sns.color_palette()\n",
    "common_args = {'ymin': -0.1, 'ymax':0.7, 'yticks':[-0.1,0,0.1,0.2,0.3,0.4,0.5,0.6,0.7], 'hue':'Transform Group', 'hue_order':transform_group_order}\n",
    "\n",
    "plt_funcs.plot_scatter(df_results, 'A_to_B_metrics.dist_A.L2FastGradientAttack.mean_loss_increase', 'A_to_B_dissimilarity', ax[0,0], 'Surrogate A | Target B | Distribution A', 'Transfer attack mean loss increase', 'Target model B similarity', **common_args)\n",
    "plt_funcs.plot_scatter(df_results, 'A_to_B_metrics.dist_B.L2FastGradientAttack.mean_loss_increase', 'A_to_B_dissimilarity', ax[0,1], 'Surrogate A | Target B | Distribution B', 'Transfer attack mean loss increase', 'Target model B similarity', **common_args)\n",
    "plt_funcs.plot_scatter(df_results, 'B_to_A_metrics.dist_A.L2FastGradientAttack.mean_loss_increase', 'B_to_A_dissimilarity', ax[1,0], 'Surrogate B | Target A | Distribution A', 'Transfer attack mean loss increase', 'Target model A similarity', **common_args)\n",
    "plt_funcs.plot_scatter(df_results, 'B_to_A_metrics.dist_B.L2FastGradientAttack.mean_loss_increase', 'B_to_A_dissimilarity', ax[1,1], 'Surrogate B | Target A | Distribution B', 'Transfer attack mean loss increase', 'Target model A similarity', **common_args)\n",
    "\n",
    "fig.suptitle('Fast Gradient Attack | Mean Loss Increase', fontsize=15, y=1.01)\n",
    "handles, labels = ax[0,0].get_legend_handles_labels()\n",
    "fig.legend(handles, labels, loc='upper center', ncol=len(handles), bbox_to_anchor=(0.5, 0.99))\n",
    "fig.tight_layout(rect=[0, 0.01, 1, 0.97])\n",
    "\n",
    "plt.savefig('../output/H3_FGA_classifier_similarity_vs_transfer_attack_mean_loss.png', bbox_inches='tight')"
   ]
  },
  {
   "cell_type": "code",
   "execution_count": null,
   "metadata": {},
   "outputs": [],
   "source": [
    "fig, ax = plt.subplots(2,2, figsize=(15,15))\n",
    "\n",
    "cp = sns.color_palette()\n",
    "common_args = {'xmin': -0.05, 'xmax': 0.2, 'xticks': [-0.05, 0, 0.05, 0.1, 0.15, 0.2],'ymin': -0.1, 'ymax':0.7, 'yticks':[-0.1,0,0.1,0.2,0.3,0.4,0.5,0.6,0.7], 'hue':'Transform Group', 'hue_order':transform_group_order}\n",
    "\n",
    "plt_funcs.plot_scatter(df_results, 'A_to_B_metrics.dist_A.BoundaryAttack.mean_loss_increase', 'A_to_B_dissimilarity', ax[0,0], 'Surrogate A | Target B | Distribution A', 'Transfer attack success rate', 'Target model B accuracy ratio', **common_args)\n",
    "plt_funcs.plot_scatter(df_results, 'A_to_B_metrics.dist_B.BoundaryAttack.mean_loss_increase', 'A_to_B_dissimilarity', ax[0,1], 'Surrogate A | Target B | Distribution B', 'Transfer attack success rate', 'Target model B accuracy ratio', **common_args)\n",
    "plt_funcs.plot_scatter(df_results, 'B_to_A_metrics.dist_A.BoundaryAttack.mean_loss_increase', 'B_to_A_dissimilarity', ax[1,0], 'Surrogate B | Target A | Distribution A', 'Transfer attack success rate', 'Target model A accuracy ratio', **common_args)\n",
    "plt_funcs.plot_scatter(df_results, 'B_to_A_metrics.dist_B.BoundaryAttack.mean_loss_increase', 'B_to_A_dissimilarity', ax[1,1], 'Surrogate B | Target A | Distribution B', 'Transfer attack success rate', 'Target model A accuracy ratio', **common_args)\n",
    "\n",
    "fig.suptitle('Boundary Attack | Mean Loss Increase', fontsize=15, y=1.01)\n",
    "handles, labels = ax[0,0].get_legend_handles_labels()\n",
    "fig.legend(handles, labels, loc='upper center', ncol=len(handles), bbox_to_anchor=(0.5, 0.99))\n",
    "fig.tight_layout(rect=[0, 0.01, 1, 0.97])\n",
    "\n",
    "plt.savefig('../output/H3_BA_classifier_similarity_vs_transfer_attack_mean_loss.png', bbox_inches='tight')"
   ]
  },
  {
   "cell_type": "markdown",
   "metadata": {},
   "source": [
    "<H2>Hypothesis 3 scatter plots</H2>"
   ]
  },
  {
   "cell_type": "code",
   "execution_count": null,
   "metadata": {},
   "outputs": [],
   "source": [
    "# Function to plot the scatter plots in a grid with dataset similarity metrics on y-axis and embedding type on x-axis\n",
    "def plot_h3_scatterplots(data, success_metric, suptitle, xlabel, filename, xmax = 1, xticks=[0, 0.2, 0.4, 0.6, 0.8, 1]):\n",
    "    df_results_subset = data[data[success_metric].notna()]\n",
    "\n",
    "    common_args = {'xmax': xmax, 'xticks': xticks, 'hue':'Transform Group', 'hue_order':transform_group_order}\n",
    "\n",
    "    fig, ax = plt.subplots(len(METRICS_BY_GROUP), len(EMBEDDINGS), figsize = (20, 20))\n",
    "    i = 0\n",
    "    for metric_key in METRICS_BY_GROUP:\n",
    "        j = 0\n",
    "        for embedding_key in EMBEDDINGS:\n",
    "            \n",
    "            li_metrics = METRICS_BY_GROUP[metric_key]\n",
    "            embedding = EMBEDDINGS[embedding_key]\n",
    "            found_embedding = False\n",
    "\n",
    "            for di_metric in li_metrics:\n",
    "                title = ''\n",
    "                if i < 1:\n",
    "                    title = embedding_key\n",
    "                if di_metric['embedding'] == embedding:\n",
    "                    plt_funcs.plot_scatter(df_results_subset, success_metric, di_metric['short_name'], ax[i, j], title=title, **common_args)\n",
    "                    found_embedding = True\n",
    "                    break\n",
    "            if not found_embedding:\n",
    "                fig.delaxes(ax[i,j])\n",
    "                    \n",
    "            j += 1\n",
    "        \n",
    "        ax[i, 0].set_ylabel(metric_key)\n",
    "        i += 1\n",
    "\n",
    "    i = len(METRICS_BY_GROUP) - 1\n",
    "    j = 0\n",
    "    while j < len(EMBEDDINGS):\n",
    "        if ax[i,j].collections:\n",
    "            ax[i,j].set_xlabel(xlabel)\n",
    "            j+=1\n",
    "        else:\n",
    "            i-=1\n",
    "        \n",
    "    \n",
    "    fig.suptitle(suptitle, fontsize=15, y=1.01)\n",
    "    handles, labels = ax[0,0].get_legend_handles_labels()\n",
    "    fig.legend(handles, labels, loc='upper center', ncol=len(handles), bbox_to_anchor=(0.5, 0.99))\n",
    "    fig.tight_layout(rect=[0, 0.01, 1, 0.99])\n",
    "    plt.savefig(filename, bbox_inches='tight')"
   ]
  },
  {
   "cell_type": "code",
   "execution_count": null,
   "metadata": {},
   "outputs": [],
   "source": [
    "\n",
    "plot_h3_scatterplots(df_results, 'A_to_B_metrics.dist_A.L2FastGradientAttack.success_rate', 'Surrogate A | Target B | Distribution A | Fast Gradient Attack | Success Rate', 'Transfer success rate', '../output/H3_FGA_A_to_B_dist_A_success_rate_by_metric_embedding.png')"
   ]
  },
  {
   "cell_type": "code",
   "execution_count": null,
   "metadata": {},
   "outputs": [],
   "source": [
    "\n",
    "plot_h3_scatterplots(df_results, 'A_to_B_metrics.dist_B.L2FastGradientAttack.success_rate', 'Surrogate A | Target B | Distribution B | Fast Gradient Attack | Success Rate', 'Transfer success rate', '../output/H3_FGA_A_to_B_dist_B_success_rate_by_metric_embedding.png')"
   ]
  },
  {
   "cell_type": "code",
   "execution_count": null,
   "metadata": {},
   "outputs": [],
   "source": [
    "\n",
    "plot_h3_scatterplots(df_results, 'B_to_A_metrics.dist_A.L2FastGradientAttack.success_rate', 'Surrogate B | Target A | Distribution A | Fast Gradient Attack | Success Rate', 'Transfer success rate', '../output/H3_FGA_B_to_A_dist_A_success_rate_by_metric_embedding.png')"
   ]
  },
  {
   "cell_type": "code",
   "execution_count": null,
   "metadata": {},
   "outputs": [],
   "source": [
    "\n",
    "plot_h3_scatterplots(df_results, 'B_to_A_metrics.dist_B.L2FastGradientAttack.success_rate', 'Surrogate B | Target A | Distribution B | Fast Gradient Attack | Success Rate', 'Transfer success rate', '../output/H3_FGA_B_to_A_dist_B_success_rate_by_metric_embedding.png')"
   ]
  },
  {
   "cell_type": "code",
   "execution_count": null,
   "metadata": {},
   "outputs": [],
   "source": [
    "# To double check the values are in the same as the report\n",
    "df_subset = df_results[df_results['A_to_B_metrics.dist_A.L2FastGradientAttack.success_rate'].notnull()]\n",
    "print('H3 - A to B | dist A  - FGA - Success Rate')\n",
    "print()\n",
    "print('MMD (None):', pearsonr(df_subset['mmd_rbf_raw'], df_subset['A_to_B_metrics.dist_A.L2FastGradientAttack.success_rate']))\n",
    "print('MMD (Inception):', pearsonr(df_subset['mmd_rbf_inception'], df_subset['A_to_B_metrics.dist_A.L2FastGradientAttack.success_rate']))\n",
    "print('MMD (UMAP):', pearsonr(df_subset['mmd_rbf_umap'], df_subset['A_to_B_metrics.dist_A.L2FastGradientAttack.success_rate']))\n",
    "print('MMD (PCA):', pearsonr(df_subset['mmd_rbf_pca'], df_subset['A_to_B_metrics.dist_A.L2FastGradientAttack.success_rate']))\n",
    "print()\n",
    "print('OTDD (None):', pearsonr(df_subset['otdd_exact_raw'], df_subset['A_to_B_metrics.dist_A.L2FastGradientAttack.success_rate']))\n",
    "print('OTDD (Inception):', pearsonr(df_subset['otdd_exact_inception'], df_subset['A_to_B_metrics.dist_A.L2FastGradientAttack.success_rate']))\n",
    "print('OTDD (UMAP):', pearsonr(df_subset['otdd_exact_umap'], df_subset['A_to_B_metrics.dist_A.L2FastGradientAttack.success_rate']))\n",
    "print('OTDD (PCA):', pearsonr(df_subset['otdd_exact_pca'], df_subset['A_to_B_metrics.dist_A.L2FastGradientAttack.success_rate']))\n",
    "print()\n",
    "print('KL (UMAP):', pearsonr(df_subset['kde_umap_kl_approx'], df_subset['A_to_B_metrics.dist_A.L2FastGradientAttack.success_rate']))\n",
    "print('L2 (UMAP):', pearsonr(df_subset['kde_gaussian_umap_l2'], df_subset['A_to_B_metrics.dist_A.L2FastGradientAttack.success_rate']))\n",
    "print('TV (UMAP):', pearsonr(df_subset['kde_gaussian_umap_tv'], df_subset['A_to_B_metrics.dist_A.L2FastGradientAttack.success_rate']))\n",
    "print('KL (PCA):', pearsonr(df_subset['kde_pca_kl_approx'], df_subset['A_to_B_metrics.dist_A.L2FastGradientAttack.success_rate']))\n",
    "print()\n",
    "print('KL (UMAP):', pearsonr(df_subset['pad_linear_umap'], df_subset['A_to_B_metrics.dist_A.L2FastGradientAttack.success_rate']))\n",
    "print('L2 (UMAP):', pearsonr(df_subset['pad_rbf_umap'], df_subset['A_to_B_metrics.dist_A.L2FastGradientAttack.success_rate']))\n",
    "print('TV (UMAP):', pearsonr(df_subset['pad_linear_pca'], df_subset['A_to_B_metrics.dist_A.L2FastGradientAttack.success_rate']))\n",
    "print('KL (PCA):', pearsonr(df_subset['pad_rbf_pca'], df_subset['A_to_B_metrics.dist_A.L2FastGradientAttack.success_rate']))\n",
    "print()\n",
    "print('CLASSIFIER SIM:', pearsonr(df_subset['A_to_B_dissimilarity'], df_subset['A_to_B_metrics.dist_A.L2FastGradientAttack.success_rate']))\n",
    "print('CLASSIFIER SIM:', pearsonr(df_subset['A_to_B_dissimilarity'], df_subset['A_to_B_metrics.dist_B.L2FastGradientAttack.success_rate']))\n",
    "df_subset = df_results[df_results['B_to_A_metrics.dist_A.L2FastGradientAttack.success_rate'].notnull()]\n",
    "print('CLASSIFIER SIM:', pearsonr(df_subset['B_to_A_dissimilarity'], df_subset['B_to_A_metrics.dist_A.L2FastGradientAttack.success_rate']))\n",
    "print('CLASSIFIER SIM:', pearsonr(df_subset['B_to_A_dissimilarity'], df_subset['B_to_A_metrics.dist_B.L2FastGradientAttack.success_rate']))"
   ]
  },
  {
   "cell_type": "code",
   "execution_count": null,
   "metadata": {},
   "outputs": [],
   "source": [
    "# To double check the values are in the same as the report\n",
    "df_subset = df_results[df_results['A_to_B_metrics.dist_A.L2FastGradientAttack.success_rate'].notnull() & df_results['Drop Group'].isin([\"0\"])]\n",
    "print('H3 - A to B | dist A  - FGA - Success Rate')\n",
    "print()\n",
    "print('MMD (None):', pearsonr(df_subset['mmd_rbf_raw'], df_subset['A_to_B_metrics.dist_A.L2FastGradientAttack.success_rate']))\n",
    "print('MMD (Inception):', pearsonr(df_subset['mmd_rbf_inception'], df_subset['A_to_B_metrics.dist_A.L2FastGradientAttack.success_rate']))\n",
    "print('MMD (UMAP):', pearsonr(df_subset['mmd_rbf_umap'], df_subset['A_to_B_metrics.dist_A.L2FastGradientAttack.success_rate']))\n",
    "print('MMD (PCA):', pearsonr(df_subset['mmd_rbf_pca'], df_subset['A_to_B_metrics.dist_A.L2FastGradientAttack.success_rate']))\n",
    "print()\n",
    "print('OTDD (None):', pearsonr(df_subset['otdd_exact_raw'], df_subset['A_to_B_metrics.dist_A.L2FastGradientAttack.success_rate']))\n",
    "print('OTDD (Inception):', pearsonr(df_subset['otdd_exact_inception'], df_subset['A_to_B_metrics.dist_A.L2FastGradientAttack.success_rate']))\n",
    "print('OTDD (UMAP):', pearsonr(df_subset['otdd_exact_umap'], df_subset['A_to_B_metrics.dist_A.L2FastGradientAttack.success_rate']))\n",
    "print('OTDD (PCA):', pearsonr(df_subset['otdd_exact_pca'], df_subset['A_to_B_metrics.dist_A.L2FastGradientAttack.success_rate']))\n",
    "print()\n",
    "print('KL (UMAP):', pearsonr(df_subset['kde_umap_kl_approx'], df_subset['A_to_B_metrics.dist_A.L2FastGradientAttack.success_rate']))\n",
    "print('L2 (UMAP):', pearsonr(df_subset['kde_gaussian_umap_l2'], df_subset['A_to_B_metrics.dist_A.L2FastGradientAttack.success_rate']))\n",
    "print('TV (UMAP):', pearsonr(df_subset['kde_gaussian_umap_tv'], df_subset['A_to_B_metrics.dist_A.L2FastGradientAttack.success_rate']))\n",
    "print('KL (PCA):', pearsonr(df_subset['kde_pca_kl_approx'], df_subset['A_to_B_metrics.dist_A.L2FastGradientAttack.success_rate']))\n",
    "print()\n",
    "print('KL (UMAP):', pearsonr(df_subset['pad_linear_umap'], df_subset['A_to_B_metrics.dist_A.L2FastGradientAttack.success_rate']))\n",
    "print('L2 (UMAP):', pearsonr(df_subset['pad_rbf_umap'], df_subset['A_to_B_metrics.dist_A.L2FastGradientAttack.success_rate']))\n",
    "print('TV (UMAP):', pearsonr(df_subset['pad_linear_pca'], df_subset['A_to_B_metrics.dist_A.L2FastGradientAttack.success_rate']))\n",
    "print('KL (PCA):', pearsonr(df_subset['pad_rbf_pca'], df_subset['A_to_B_metrics.dist_A.L2FastGradientAttack.success_rate']))\n",
    "print()\n",
    "print('CLASSIFIER SIM:', pearsonr(df_subset['A_to_B_dissimilarity'], df_subset['A_to_B_metrics.dist_A.L2FastGradientAttack.success_rate']))\n",
    "print('CLASSIFIER SIM:', pearsonr(df_subset['A_to_B_dissimilarity'], df_subset['A_to_B_metrics.dist_B.L2FastGradientAttack.success_rate']))\n",
    "df_subset = df_results[df_results['B_to_A_metrics.dist_A.L2FastGradientAttack.success_rate'].notnull() & df_results['Drop Group'].isin([\"0\"])]\n",
    "print('CLASSIFIER SIM:', pearsonr(df_subset['B_to_A_dissimilarity'], df_subset['B_to_A_metrics.dist_A.L2FastGradientAttack.success_rate']))\n",
    "print('CLASSIFIER SIM:', pearsonr(df_subset['B_to_A_dissimilarity'], df_subset['B_to_A_metrics.dist_B.L2FastGradientAttack.success_rate']))"
   ]
  },
  {
   "cell_type": "code",
   "execution_count": null,
   "metadata": {},
   "outputs": [],
   "source": [
    "plot_h3_scatterplots(df_results, 'A_to_B_metrics.dist_A.BoundaryAttack.success_rate', 'Surrogate A | Target B | Distribution A | Boundary Attack | Success Rate', 'Transfer success rate', '../output/H3_BA_A_to_B_dist_A_success_rate_by_metric_embedding.png', xmax=0.2, xticks=[0, 0.05, 0.1, 0.15, 0.2])"
   ]
  },
  {
   "cell_type": "code",
   "execution_count": null,
   "metadata": {},
   "outputs": [],
   "source": [
    "plot_h3_scatterplots(df_results, 'A_to_B_metrics.dist_B.BoundaryAttack.success_rate', 'Surrogate A | Target B | Distribution B | Boundary Attack | Success Rate', 'Transfer success rate', '../output/H3_BA_A_to_B_dist_B_success_rate_by_metric_embedding.png', xmax=0.2, xticks=[0, 0.05, 0.1, 0.15, 0.2])"
   ]
  },
  {
   "cell_type": "code",
   "execution_count": null,
   "metadata": {},
   "outputs": [],
   "source": [
    "\n",
    "plot_h3_scatterplots(df_results, 'B_to_A_metrics.dist_A.BoundaryAttack.success_rate', 'Surrogate B | Target A | Distribution A | Boundary Attack | Success Rate', 'Transfer success rate', '../output/H3_BA_B_to_A_dist_A_success_rate_by_metric_embedding.png',xmax=0.2, xticks=[0, 0.05, 0.1, 0.15, 0.2])"
   ]
  },
  {
   "cell_type": "code",
   "execution_count": null,
   "metadata": {},
   "outputs": [],
   "source": [
    "\n",
    "plot_h3_scatterplots(df_results, 'B_to_A_metrics.dist_B.BoundaryAttack.success_rate', 'Surrogate B | Target A | Distribution B | Boundary Attack | Success Rate', 'Transfer success rate', '../output/H3_BA_B_to_A_dist_B_success_rate_by_metric_embedding.png',xmax=0.2, xticks=[0, 0.05, 0.1, 0.15, 0.2])"
   ]
  },
  {
   "cell_type": "code",
   "execution_count": null,
   "metadata": {},
   "outputs": [],
   "source": [
    "\n",
    "plot_h3_scatterplots(df_results, 'A_to_B_metrics.dist_A.L2FastGradientAttack.mean_loss_increase', 'Surrogate A | Target B | Distribution A | Fast Gradient Attack | Mean Loss Increase', 'Transfer mean loss increase', '../output/H3_FGA_A_to_B_dist_A_mean_loss_increase_by_metric_embedding.png')"
   ]
  },
  {
   "cell_type": "code",
   "execution_count": null,
   "metadata": {},
   "outputs": [],
   "source": [
    "\n",
    "plot_h3_scatterplots(df_results, 'A_to_B_metrics.dist_B.L2FastGradientAttack.mean_loss_increase', 'Surrogate A | Target B | Distribution B | Fast Gradient Attack | Mean Loss Increase', 'Transfer mean loss increase', '../output/H3_FGA_A_to_B_dist_B_mean_loss_increase_by_metric_embedding.png')"
   ]
  },
  {
   "cell_type": "code",
   "execution_count": null,
   "metadata": {},
   "outputs": [],
   "source": [
    "\n",
    "plot_h3_scatterplots(df_results, 'B_to_A_metrics.dist_A.L2FastGradientAttack.mean_loss_increase', 'Surrogate B | Target A | Distribution A | Fast Gradient Attack | Mean Loss Increase', 'Transfer mean loss increase', '../output/H3_FGA_B_to_A_dist_A_mean_loss_increase_by_metric_embedding.png')"
   ]
  },
  {
   "cell_type": "code",
   "execution_count": null,
   "metadata": {},
   "outputs": [],
   "source": [
    "\n",
    "plot_h3_scatterplots(df_results, 'B_to_A_metrics.dist_B.L2FastGradientAttack.mean_loss_increase', 'Surrogate B | Target A | Distribution B | Fast Gradient Attack | Mean Loss Increase', 'Transfer mean loss increase', '../output/H3_FGA_B_to_A_dist_B_mean_loss_increase_by_metric_embedding.png')"
   ]
  },
  {
   "cell_type": "code",
   "execution_count": null,
   "metadata": {},
   "outputs": [],
   "source": [
    "plot_h3_scatterplots(df_results, 'A_to_B_metrics.dist_A.BoundaryAttack.mean_loss_increase', 'Surrogate A | Target B | Distribution A | Boundary Attack | Mean Loss Increase', 'Transfer mean loss increase', '../output/H3_BA_A_to_B_dist_A_mean_loss_increase_by_metric_embedding.png', xmax=0.2, xticks=[0, 0.05, 0.1, 0.15, 0.2])"
   ]
  },
  {
   "cell_type": "code",
   "execution_count": null,
   "metadata": {},
   "outputs": [],
   "source": [
    "plot_h3_scatterplots(df_results, 'A_to_B_metrics.dist_B.BoundaryAttack.mean_loss_increase', 'Surrogate A | Target B | Distribution B | Boundary Attack | Mean Loss Increase', 'Transfer mean loss increase', '../output/H3_BA_A_to_B_dist_B_mean_loss_increase_by_metric_embedding.png', xmax=0.2, xticks=[0, 0.05, 0.1, 0.15, 0.2])"
   ]
  },
  {
   "cell_type": "code",
   "execution_count": null,
   "metadata": {},
   "outputs": [],
   "source": [
    "plot_h3_scatterplots(df_results, 'B_to_A_metrics.dist_A.BoundaryAttack.mean_loss_increase', 'Surrogate B | Target A | Distribution A | Boundary Attack | Mean Loss Increase', 'Transfer mean loss increase', '../output/H3_BA_B_to_A_dist_A_mean_loss_increase_by_metric_embedding.png', xmax=0.2, xticks=[0, 0.05, 0.1, 0.15, 0.2])"
   ]
  },
  {
   "cell_type": "code",
   "execution_count": null,
   "metadata": {},
   "outputs": [],
   "source": [
    "plot_h3_scatterplots(df_results, 'B_to_A_metrics.dist_B.BoundaryAttack.mean_loss_increase', 'Surrogate B | Target A | Distribution B | Boundary Attack | Mean Loss Increase', 'Transfer mean loss increase', '../output/H3_BA_B_to_A_dist_B_mean_loss_increase_by_metric_embedding.png', xmax=0.2, xticks=[0, 0.05, 0.1, 0.15, 0.2])"
   ]
  },
  {
   "cell_type": "code",
   "execution_count": null,
   "metadata": {},
   "outputs": [],
   "source": []
  }
 ],
 "metadata": {
  "kernelspec": {
   "display_name": "arc-model-similarities-phase-2",
   "language": "python",
   "name": "arc-model-similarities-phase-2"
  },
  "language_info": {
   "codemirror_mode": {
    "name": "ipython",
    "version": 3
   },
   "file_extension": ".py",
   "mimetype": "text/x-python",
   "name": "python",
   "nbconvert_exporter": "python",
   "pygments_lexer": "ipython3",
   "version": "3.10.11"
  },
  "orig_nbformat": 4
 },
 "nbformat": 4,
 "nbformat_minor": 2
}
