{
 "cells": [
  {
   "cell_type": "code",
   "execution_count": null,
   "metadata": {},
   "outputs": [],
   "source": [
    "import matplotlib.pyplot as plt\n",
    "import seaborn as sns\n",
    "import preprocessing\n",
    "import plotting_functions\n",
    "import constants"
   ]
  },
  {
   "cell_type": "code",
   "execution_count": null,
   "metadata": {},
   "outputs": [],
   "source": [
    "df_results = preprocessing.DF_DATA\n",
    "drop_group_name_order = constants.DROP_GROUP_NAME_ORDER"
   ]
  },
  {
   "cell_type": "markdown",
   "metadata": {},
   "source": [
    "<H2>Hypothesis 4 - box plots</H2>"
   ]
  },
  {
   "cell_type": "code",
   "execution_count": null,
   "metadata": {},
   "outputs": [],
   "source": [
    "fig, ax = plt.subplots(2,2, figsize=(15,10))\n",
    "\n",
    "xmax = 1\n",
    "xticks = [0, 0.2, 0.4, 0.6, 0.8, 1.0]\n",
    "\n",
    "plotting_functions.plot_white_boxplot(df_results, 'A_to_B_metrics.dist_A.L2FastGradientAttack.success_rate', 'Surrogate A | Target B | Distribution A', ax[0,0], y='Drop Group Name', ylabel='Drop Group', order = drop_group_name_order)\n",
    "plotting_functions.plot_white_boxplot(df_results, 'A_to_B_metrics.dist_B.L2FastGradientAttack.success_rate', 'Surrogate A | Target B | Distribution B', ax[0,1], y='Drop Group Name', order = drop_group_name_order)\n",
    "plotting_functions.plot_white_boxplot(df_results, 'B_to_A_metrics.dist_A.L2FastGradientAttack.success_rate', 'Surrogate B | Target A | Distribution A', ax[1,0], xlabel='Transfer success rate', y='Drop Group Name', ylabel='Drop Group', order = drop_group_name_order)\n",
    "plotting_functions.plot_white_boxplot(df_results, 'B_to_A_metrics.dist_B.L2FastGradientAttack.success_rate', 'Surrogate B | Target A | Distribution B', ax[1,1], xlabel='Transfer success rate', y='Drop Group Name', order = drop_group_name_order)\n",
    "\n",
    "fig.suptitle('Fast Gradient Attack | Transfer Success Rate')\n",
    "fig.tight_layout(rect=[0, 0.01, 1, 0.99])\n",
    "plt.savefig('../output/H4_FGA_transfer_success_by_drop_group.png')\n"
   ]
  },
  {
   "cell_type": "code",
   "execution_count": null,
   "metadata": {},
   "outputs": [],
   "source": [
    "fig, ax = plt.subplots(2,2, figsize=(15,10))\n",
    "\n",
    "xmax = 0.2\n",
    "xticks = [0, 0.05, 0.1, 0.15, 0.2]\n",
    "\n",
    "plotting_functions.plot_white_boxplot(df_results, 'A_to_B_metrics.dist_A.BoundaryAttack.success_rate', 'Surrogate A | Target B | Distribution A', ax[0,0], y='Drop Group Name', ylabel='Drop Group', order = drop_group_name_order, xmax = xmax, xticks=xticks)\n",
    "plotting_functions.plot_white_boxplot(df_results, 'A_to_B_metrics.dist_B.BoundaryAttack.success_rate', 'Surrogate A | Target B | Distribution B', ax[0,1], y='Drop Group Name', order = drop_group_name_order, xmax = xmax, xticks=xticks)\n",
    "plotting_functions.plot_white_boxplot(df_results, 'B_to_A_metrics.dist_A.BoundaryAttack.success_rate', 'Surrogate B | Target A | Distribution A', ax[1,0], xlabel='Transfer success rate', y='Drop Group Name', ylabel='Drop Group', order = drop_group_name_order, xmax = xmax, xticks=xticks)\n",
    "plotting_functions.plot_white_boxplot(df_results, 'B_to_A_metrics.dist_B.BoundaryAttack.success_rate', 'Surrogate B | Target A | Distribution B', ax[1,1], xlabel='Transfer success rate', y='Drop Group Name', order = drop_group_name_order, xmax = xmax, xticks=xticks)\n",
    "\n",
    "fig.suptitle('Boundary Attack | Transfer Success Rate')\n",
    "fig.tight_layout(rect=[0, 0.01, 1, 0.99])\n",
    "plt.savefig('../output/H4_BA_transfer_success_by_drop_group.png')\n"
   ]
  },
  {
   "cell_type": "code",
   "execution_count": null,
   "metadata": {},
   "outputs": [],
   "source": [
    "fig, ax = plt.subplots(2,2, figsize=(15,10))\n",
    "\n",
    "xmax = 1\n",
    "xticks = [0, 0.2, 0.4, 0.6, 0.8, 1.0]\n",
    "\n",
    "plotting_functions.plot_white_boxplot(df_results, 'A_to_B_metrics.dist_A.L2FastGradientAttack.mean_loss_increase', 'Surrogate A | Target B | Distribution A', ax[0,0], y='Drop Group Name', ylabel='Drop Group', order = drop_group_name_order)\n",
    "plotting_functions.plot_white_boxplot(df_results, 'A_to_B_metrics.dist_B.L2FastGradientAttack.mean_loss_increase', 'Surrogate A | Target B | Distribution B', ax[0,1], y='Drop Group Name', order = drop_group_name_order)\n",
    "plotting_functions.plot_white_boxplot(df_results, 'B_to_A_metrics.dist_A.L2FastGradientAttack.mean_loss_increase', 'Surrogate B | Target A | Distribution A', ax[1,0], xlabel='Transfer success rate', y='Drop Group Name', ylabel='Drop Group', order = drop_group_name_order)\n",
    "plotting_functions.plot_white_boxplot(df_results, 'B_to_A_metrics.dist_B.L2FastGradientAttack.mean_loss_increase', 'Surrogate B | Target A | Distribution B', ax[1,1], xlabel='Transfer success rate', y='Drop Group Name', order = drop_group_name_order)\n",
    "\n",
    "fig.suptitle('Fast Gradient Attack | Transfer Mean Loss Increase')\n",
    "fig.tight_layout(rect=[0, 0.01, 1, 0.99])\n",
    "plt.savefig('../output/H4_FGA_transfer_mean_loss_by_drop_group.png')\n"
   ]
  },
  {
   "cell_type": "code",
   "execution_count": null,
   "metadata": {},
   "outputs": [],
   "source": [
    "fig, ax = plt.subplots(2,2, figsize=(15,10))\n",
    "\n",
    "xmax = 0.2\n",
    "xticks = [0, 0.05, 0.1, 0.15, 0.2]\n",
    "\n",
    "plotting_functions.plot_white_boxplot(df_results, 'A_to_B_metrics.dist_A.BoundaryAttack.mean_loss_increase', 'Surrogate A | Target B | Distribution A', ax[0,0], y='Drop Group Name', ylabel='Drop Group', order = drop_group_name_order, xmax = xmax, xticks=xticks)\n",
    "plotting_functions.plot_white_boxplot(df_results, 'A_to_B_metrics.dist_B.BoundaryAttack.mean_loss_increase', 'Surrogate A | Target B | Distribution B', ax[0,1], y='Drop Group Name', order = drop_group_name_order, xmax = xmax, xticks=xticks)\n",
    "plotting_functions.plot_white_boxplot(df_results, 'B_to_A_metrics.dist_A.BoundaryAttack.mean_loss_increase', 'Surrogate B | Target A | Distribution A', ax[1,0], xlabel='Transfer success rate', y='Drop Group Name', ylabel='Drop Group', order = drop_group_name_order, xmax = xmax, xticks=xticks)\n",
    "plotting_functions.plot_white_boxplot(df_results, 'B_to_A_metrics.dist_B.BoundaryAttack.mean_loss_increase', 'Surrogate B | Target A | Distribution B', ax[1,1], xlabel='Transfer success rate', y='Drop Group Name', order = drop_group_name_order, xmax = xmax, xticks=xticks)\n",
    "\n",
    "fig.suptitle('Boundary Attack | Transfer Mean Loss Increase')\n",
    "fig.tight_layout(rect=[0, 0.01, 1, 0.99])\n",
    "plt.savefig('../output/H4_BA_transfer_mean_loss_increase_by_drop_group.png')\n"
   ]
  },
  {
   "cell_type": "markdown",
   "metadata": {},
   "source": [
    "<H2>Scatter plots for accuracy ratio - shown by drop group</H2>"
   ]
  },
  {
   "cell_type": "code",
   "execution_count": null,
   "metadata": {},
   "outputs": [],
   "source": [
    "sns.set_palette('Paired')\n",
    "sns.color_palette()"
   ]
  },
  {
   "cell_type": "code",
   "execution_count": null,
   "metadata": {},
   "outputs": [],
   "source": [
    "fig, ax = plt.subplots(2,2, figsize=(15,15))\n",
    "cp = sns.color_palette()\n",
    "common_args = {'ymin': -0.1, 'ymax':0.7, 'yticks':[-0.1,0,0.1,0.2,0.3,0.4,0.5,0.6,0.7], 'style':'Drop Group Name', 'style_order':drop_group_name_order, 'hue':'Drop Group Name', 'hue_order':drop_group_name_order, 'marker_size':100, 'colors':[cp[0], cp[2], cp[3], cp[7], cp[8], cp[9]]}\n",
    "plotting_functions.plot_scatter(df_results, 'A_to_B_metrics.dist_A.L2FastGradientAttack.success_rate', 'A_to_B_dissimilarity', ax[0,0], 'Surrogate A | Target B | Distribution A', 'Transfer attack success rate', 'Target model B accuracy ratio', **common_args)\n",
    "plotting_functions.plot_scatter(df_results, 'A_to_B_metrics.dist_B.L2FastGradientAttack.success_rate', 'A_to_B_dissimilarity', ax[0,1], 'Surrogate A | Target B | Distribution B', 'Transfer attack success rate', 'Target model B accuracy ratio', **common_args)\n",
    "plotting_functions.plot_scatter(df_results, 'B_to_A_metrics.dist_A.L2FastGradientAttack.success_rate', 'B_to_A_dissimilarity', ax[1,0], 'Surrogate B | Target A | Distribution A', 'Transfer attack success rate', 'Target model A accuracy ratio', **common_args)\n",
    "plotting_functions.plot_scatter(df_results, 'B_to_A_metrics.dist_B.L2FastGradientAttack.success_rate', 'B_to_A_dissimilarity', ax[1,1], 'Surrogate B | Target A | Distribution B', 'Transfer attack success rate', 'Target model A accuracy ratio', **common_args)\n",
    "\n",
    "fig.suptitle('Fast Gradient Attack | Success Rate', fontsize=15, y=1.01)\n",
    "handles, labels = ax[0,0].get_legend_handles_labels()\n",
    "fig.legend(handles, labels, loc='upper center', ncol=len(handles), bbox_to_anchor=(0.5, 0.99))\n",
    "fig.tight_layout(rect=[0, 0.01, 1, 0.97])\n",
    "\n",
    "plt.savefig('../output/H4_FGA_classifier_similarity_vs_transfer_attack_success_rate.png', bbox_inches='tight')"
   ]
  },
  {
   "cell_type": "code",
   "execution_count": null,
   "metadata": {},
   "outputs": [],
   "source": [
    "fig, ax = plt.subplots(2,2, figsize=(15,15))\n",
    "\n",
    "cp = sns.color_palette()\n",
    "common_args = {'xmin': -0.05, 'xmax': 0.2, 'xticks': [-0.05, 0, 0.05, 0.1, 0.15, 0.2],'ymin': -0.1, 'ymax':0.7, 'yticks':[-0.1,0,0.1,0.2,0.3,0.4,0.5,0.6,0.7], 'style':'Drop Group Name', 'style_order':drop_group_name_order, 'hue':'Drop Group Name', 'hue_order':drop_group_name_order, 'marker_size':100, 'colors':[cp[0], cp[2], cp[3], cp[7], cp[8], cp[9]]}\n",
    "\n",
    "plotting_functions.plot_scatter(df_results, 'A_to_B_metrics.dist_A.BoundaryAttack.success_rate', 'A_to_B_dissimilarity', ax[0,0], 'Surrogate A | Target B | Distribution A', 'Transfer attack success rate', 'Target model B accuracy ratio', **common_args)\n",
    "plotting_functions.plot_scatter(df_results, 'A_to_B_metrics.dist_B.BoundaryAttack.success_rate', 'A_to_B_dissimilarity', ax[0,1], 'Surrogate A | Target B | Distribution B', 'Transfer attack success rate', 'Target model B accuracy ratio', **common_args)\n",
    "plotting_functions.plot_scatter(df_results, 'B_to_A_metrics.dist_A.BoundaryAttack.success_rate', 'B_to_A_dissimilarity', ax[1,0], 'Surrogate B | Target A | Distribution A', 'Transfer attack success rate', 'Target model A accuracy ratio', **common_args)\n",
    "plotting_functions.plot_scatter(df_results, 'B_to_A_metrics.dist_B.BoundaryAttack.success_rate', 'B_to_A_dissimilarity', ax[1,1], 'Surrogate B | Target A | Distribution B', 'Transfer attack success rate', 'Target model A accuracy ratio', **common_args)\n",
    "\n",
    "fig.suptitle('Boundary Attack | Success Rate', fontsize=15, y=1.01)\n",
    "handles, labels = ax[0,0].get_legend_handles_labels()\n",
    "fig.legend(handles, labels, loc='upper center', ncol=len(handles), bbox_to_anchor=(0.5, 0.99))\n",
    "fig.tight_layout(rect=[0, 0.01, 1, 0.97])\n",
    "\n",
    "plt.savefig('../output/H4_BA_classifier_similarity_vs_transfer_attack_success_rate.png', bbox_inches='tight')"
   ]
  },
  {
   "cell_type": "code",
   "execution_count": null,
   "metadata": {},
   "outputs": [],
   "source": [
    "fig, ax = plt.subplots(2,2, figsize=(15,15))\n",
    "\n",
    "cp = sns.color_palette()\n",
    "common_args = {'ymin': -0.1, 'ymax':0.7, 'yticks':[-0.1,0,0.1,0.2,0.3,0.4,0.5,0.6,0.7], 'style':'Drop Group Name', 'style_order':drop_group_name_order, 'hue':'Drop Group Name', 'hue_order':drop_group_name_order, 'marker_size':100, 'colors':[cp[0], cp[2], cp[3], cp[7], cp[8], cp[9]]}\n",
    "\n",
    "plotting_functions.plot_scatter(df_results, 'A_to_B_metrics.dist_A.L2FastGradientAttack.mean_loss_increase', 'A_to_B_dissimilarity', ax[0,0], 'Surrogate A | Target B | Distribution A', 'Transfer attack mean loss increase', 'Target model B accuracy ratio', **common_args)\n",
    "plotting_functions.plot_scatter(df_results, 'A_to_B_metrics.dist_B.L2FastGradientAttack.mean_loss_increase', 'A_to_B_dissimilarity', ax[0,1], 'Surrogate A | Target B | Distribution B', 'Transfer attack mean loss increase', 'Target model B accuracy ratio', **common_args)\n",
    "plotting_functions.plot_scatter(df_results, 'B_to_A_metrics.dist_A.L2FastGradientAttack.mean_loss_increase', 'B_to_A_dissimilarity', ax[1,0], 'Surrogate B | Target A | Distribution A', 'Transfer attack mean loss increase', 'Target model A accuracy ratio', **common_args)\n",
    "plotting_functions.plot_scatter(df_results, 'B_to_A_metrics.dist_B.L2FastGradientAttack.mean_loss_increase', 'B_to_A_dissimilarity', ax[1,1], 'Surrogate B | Target A | Distribution B', 'Transfer attack mean loss increase', 'Target model A accuracy ratio', **common_args)\n",
    "\n",
    "fig.suptitle('Fast Gradient Attack | Mean Loss Increase', fontsize=15, y=1.01)\n",
    "handles, labels = ax[0,0].get_legend_handles_labels()\n",
    "fig.legend(handles, labels, loc='upper center', ncol=len(handles), bbox_to_anchor=(0.5, 0.99))\n",
    "fig.tight_layout(rect=[0, 0.01, 1, 0.97])\n",
    "\n",
    "plt.savefig('../output/H4_FGA_classifier_similarity_vs_transfer_attack_mean_loss.png', bbox_inches='tight')"
   ]
  },
  {
   "cell_type": "code",
   "execution_count": null,
   "metadata": {},
   "outputs": [],
   "source": [
    "fig, ax = plt.subplots(2,2, figsize=(15,15))\n",
    "\n",
    "cp = sns.color_palette()\n",
    "common_args = {'xmin': -0.05, 'xmax': 0.2, 'xticks': [-0.05, 0, 0.05, 0.1, 0.15, 0.2],'ymin': -0.1, 'ymax':0.7, 'yticks':[-0.1,0,0.1,0.2,0.3,0.4,0.5,0.6,0.7], 'style':'Drop Group Name', 'style_order':drop_group_name_order, 'hue':'Drop Group Name', 'hue_order':drop_group_name_order, 'marker_size':100, 'colors':[cp[0], cp[2], cp[3], cp[7], cp[8], cp[9]]}\n",
    "\n",
    "plotting_functions.plot_scatter(df_results, 'A_to_B_metrics.dist_A.BoundaryAttack.mean_loss_increase', 'A_to_B_dissimilarity', ax[0,0], 'Surrogate A | Target B | Distribution A', 'Transfer attack success rate', 'Target model B accuracy ratio', **common_args)\n",
    "plotting_functions.plot_scatter(df_results, 'A_to_B_metrics.dist_B.BoundaryAttack.mean_loss_increase', 'A_to_B_dissimilarity', ax[0,1], 'Surrogate A | Target B | Distribution B', 'Transfer attack success rate', 'Target model B accuracy ratio', **common_args)\n",
    "plotting_functions.plot_scatter(df_results, 'B_to_A_metrics.dist_A.BoundaryAttack.mean_loss_increase', 'B_to_A_dissimilarity', ax[1,0], 'Surrogate B | Target A | Distribution A', 'Transfer attack success rate', 'Target model A accuracy ratio', **common_args)\n",
    "plotting_functions.plot_scatter(df_results, 'B_to_A_metrics.dist_B.BoundaryAttack.mean_loss_increase', 'B_to_A_dissimilarity', ax[1,1], 'Surrogate B | Target A | Distribution B', 'Transfer attack success rate', 'Target model A accuracy ratio', **common_args)\n",
    "\n",
    "fig.suptitle('Boundary Attack | Mean Loss Increase', fontsize=15, y=1.01)\n",
    "handles, labels = ax[0,0].get_legend_handles_labels()\n",
    "fig.legend(handles, labels, loc='upper center', ncol=len(handles), bbox_to_anchor=(0.5, 0.99))\n",
    "fig.tight_layout(rect=[0, 0.01, 1, 0.97])\n",
    "\n",
    "plt.savefig('../output/H4_BA_classifier_similarity_vs_transfer_attack_mean_loss.png', bbox_inches='tight')"
   ]
  },
  {
   "cell_type": "code",
   "execution_count": null,
   "metadata": {},
   "outputs": [],
   "source": []
  }
 ],
 "metadata": {
  "kernelspec": {
   "display_name": "arc-model-similarities-phase-2",
   "language": "python",
   "name": "arc-model-similarities-phase-2"
  },
  "language_info": {
   "codemirror_mode": {
    "name": "ipython",
    "version": 3
   },
   "file_extension": ".py",
   "mimetype": "text/x-python",
   "name": "python",
   "nbconvert_exporter": "python",
   "pygments_lexer": "ipython3",
   "version": "3.10.11"
  },
  "orig_nbformat": 4
 },
 "nbformat": 4,
 "nbformat_minor": 2
}
