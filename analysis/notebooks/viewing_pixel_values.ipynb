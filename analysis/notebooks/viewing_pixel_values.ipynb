{
 "cells": [
  {
   "cell_type": "code",
   "execution_count": null,
   "metadata": {},
   "outputs": [],
   "source": [
    "import numpy as np\n",
    "import pandas as pd\n",
    "import seaborn as sns\n",
    "import matplotlib.pyplot as plt"
   ]
  },
  {
   "cell_type": "code",
   "execution_count": null,
   "metadata": {},
   "outputs": [],
   "source": [
    "# Numpy arrays representing the CIFAR-10 data from the project were saved with varying amount\n",
    "# of data dropped from each dataset and without embeddings\n",
    "no_embeddings = np.load('../data/no_embedding.npz')\n",
    "np_no_embedding_drop_0 = no_embeddings['no_embedding_no_transform_drop_0']\n",
    "np_no_embedding_drop_25 = no_embeddings['no_embedding_no_transform_drop_25']\n",
    "np_no_embedding_drop_50 = no_embeddings['no_embedding_no_transform_drop_50']\n",
    "np_no_embedding_drop_75 = no_embeddings['no_embedding_no_transform_drop_75']\n",
    "\n",
    "# Numpy arrays representing the CIFAR-10 data from the project were saved with transforms\n",
    "# applied and without any data dropped\n",
    "transforms = np.load('../data/transforms.npz')\n",
    "np_grayscale_drop_0 = transforms['no_embedding_grayscale_drop_0']\n",
    "np_little_blur_drop_0 = transforms['no_embedding_little_blur_drop_0']\n",
    "np_big_blur_drop_0 = transforms['no_embedding_big_blur_drop_0']\n",
    "np_rotate_drop_0 = transforms['no_embedding_rotate_180_drop_0']"
   ]
  },
  {
   "cell_type": "code",
   "execution_count": null,
   "metadata": {},
   "outputs": [],
   "source": [
    "# Convert to dataframes\n",
    "df_no_embedding_drop_0 = pd.DataFrame(np_no_embedding_drop_0)\n",
    "df_no_embedding_drop_25 = pd.DataFrame(np_no_embedding_drop_25)\n",
    "df_no_embedding_drop_50 = pd.DataFrame(np_no_embedding_drop_50)\n",
    "df_no_embedding_drop_75 = pd.DataFrame(np_no_embedding_drop_75)\n",
    "\n",
    "df_grayscale_drop_0 = pd.DataFrame(np_grayscale_drop_0)\n",
    "df_little_blur_drop_0 = pd.DataFrame(np_little_blur_drop_0)\n",
    "df_big_blur_drop_0 = pd.DataFrame(np_big_blur_drop_0)\n",
    "df_rotate_drop_0 = pd.DataFrame(np_rotate_drop_0)"
   ]
  },
  {
   "cell_type": "code",
   "execution_count": null,
   "metadata": {},
   "outputs": [],
   "source": [
    "# Six pixel values selected for viewing - two from each channel\n",
    "# Pixels from R - 23, 685\n",
    "# Pixels from G - 1098, 1765\n",
    "# Pixels from B - 2210, 2906\n",
    "pixels = [23, 685, 1098, 1765, 2210, 2906]"
   ]
  },
  {
   "cell_type": "code",
   "execution_count": null,
   "metadata": {},
   "outputs": [],
   "source": [
    "# Function to plot histogram of the values of a pixel over a dataset\n",
    "def create_histplot(x, y, ax, df_data, column, title=None, ylabel=None):\n",
    "    sns.histplot(data=df_data, x=column, ax = ax[x, y], binwidth=0.02, stat='probability')\n",
    "    ax[x,y].set_xlim(0, 1)\n",
    "    ax[x,y].set_ylim(0, 0.07)\n",
    "    if x < 1:\n",
    "        ax[x,y].set_title(title)\n",
    "    if y < 1:\n",
    "        ax[x,y].set_ylabel(ylabel)\n",
    "    else:\n",
    "        ax[x,y].set_ylabel('')\n",
    "    ax[x,y].set_xlabel('')"
   ]
  },
  {
   "cell_type": "code",
   "execution_count": null,
   "metadata": {},
   "outputs": [],
   "source": [
    "# Plot histograms for the six pixel values by transform group\n",
    "fig, ax = plt.subplots(6, 5, figsize=(20, 24))\n",
    "\n",
    "i = 0\n",
    "for pixel in pixels:\n",
    "    create_histplot(i, 0, ax, df_no_embedding_drop_0, pixel, 'No embedding', 'Feature ' + str(pixel))\n",
    "    create_histplot(i, 1, ax, df_grayscale_drop_0, pixel, 'Grayscale', 'Feature ' + str(pixel))\n",
    "    create_histplot(i, 2, ax, df_little_blur_drop_0, pixel, 'Litle Blur', 'Feature ' + str(pixel))\n",
    "    create_histplot(i, 3, ax, df_big_blur_drop_0, pixel, 'Big Blur', 'Feature ' + str(pixel))\n",
    "    create_histplot(i, 4, ax, df_rotate_drop_0, pixel, 'Rotate 180', 'Feature ' + str(pixel))\n",
    "    i+=1\n",
    "\n",
    "for j in range(5):\n",
    "    ax[5, j].set_xlabel('Pixel Value')\n",
    "\n",
    "fig.savefig('../output/pixels_by_transform.png')"
   ]
  },
  {
   "cell_type": "code",
   "execution_count": null,
   "metadata": {},
   "outputs": [],
   "source": [
    "# Plot histograms of the pixel values by drop group\n",
    "fig, ax = plt.subplots(6, 4, figsize=(16, 24))\n",
    "\n",
    "i = 0\n",
    "for pixel in pixels:\n",
    "    create_histplot(i, 0, ax, df_no_embedding_drop_0, pixel, 'No embedding - drop 0%', 'Feature ' + str(pixel))\n",
    "    create_histplot(i, 1, ax, df_no_embedding_drop_25, pixel, 'No embedding - drop 25%', 'Feature ' + str(pixel))\n",
    "    create_histplot(i, 2, ax, df_no_embedding_drop_50, pixel, 'No embedding - drop 50%', 'Feature ' + str(pixel))\n",
    "    create_histplot(i, 3, ax, df_no_embedding_drop_75, pixel, 'No embedding - drop 75%', 'Feature ' + str(pixel))\n",
    "    i+=1\n",
    "\n",
    "\n",
    "fig.savefig('../output/pixels_by_drop_group.png')"
   ]
  },
  {
   "cell_type": "code",
   "execution_count": null,
   "metadata": {},
   "outputs": [],
   "source": []
  }
 ],
 "metadata": {
  "kernelspec": {
   "display_name": "arc-model-similarities-phase-2",
   "language": "python",
   "name": "arc-model-similarities-phase-2"
  },
  "language_info": {
   "codemirror_mode": {
    "name": "ipython",
    "version": 3
   },
   "file_extension": ".py",
   "mimetype": "text/x-python",
   "name": "python",
   "nbconvert_exporter": "python",
   "pygments_lexer": "ipython3",
   "version": "3.10.11"
  },
  "orig_nbformat": 4
 },
 "nbformat": 4,
 "nbformat_minor": 2
}
