{
 "cells": [
  {
   "cell_type": "code",
   "execution_count": null,
   "metadata": {},
   "outputs": [],
   "source": [
    "import pandas as pd\n",
    "import matplotlib.pyplot as plt\n",
    "import seaborn as sns\n",
    "import preprocessing\n",
    "import plotting_functions as plt_funcs\n",
    "import constants\n",
    "from scipy.stats import pearsonr"
   ]
  },
  {
   "cell_type": "code",
   "execution_count": null,
   "metadata": {},
   "outputs": [],
   "source": [
    "df_results = preprocessing.DF_DATA\n",
    "sns.set_palette('colorblind')"
   ]
  },
  {
   "cell_type": "markdown",
   "metadata": {},
   "source": [
    "<H2>Pre-process data before plotting</H2>"
   ]
  },
  {
   "cell_type": "code",
   "execution_count": null,
   "metadata": {},
   "outputs": [],
   "source": [
    "# Create a dataframe for each surrogate, target and dist combination ('model group') containing the success rate and mean loss increase values\n",
    "# Rename columns that refer to the success rate and mean loss increase for each model group so that they all have the same names\n",
    "df_A_to_B_dist_A = df_results.loc[:, ['Name', 'A or B', 'A_to_B_metrics.dist_A.L2FastGradientAttack.success_rate', 'A_to_B_metrics.dist_A.L2FastGradientAttack.mean_loss_increase', 'A_to_B_metrics.dist_A.BoundaryAttack.success_rate', 'A_to_B_metrics.dist_A.BoundaryAttack.mean_loss_increase']]\n",
    "df_A_to_B_dist_A['transfer_dist'] = 'dist_A'\n",
    "df_A_to_B_dist_A['Target'] = 'B'\n",
    "df_A_to_B_dist_A['A or B'] = 'A_to_B'\n",
    "df_A_to_B_dist_A['Model group'] = 'Surrogate A | Target B | Dataset A'\n",
    "df_A_to_B_dist_A.dropna(inplace=True)\n",
    "df_A_to_B_dist_A.rename(columns={'A_to_B_metrics.dist_A.L2FastGradientAttack.success_rate': 'FGA_success_rate', 'A_to_B_metrics.dist_A.L2FastGradientAttack.mean_loss_increase': 'FGA_mean_loss_increase', 'A_to_B_metrics.dist_A.BoundaryAttack.success_rate': 'Boundary_success_rate', 'A_to_B_metrics.dist_A.BoundaryAttack.mean_loss_increase': 'Boundary_mean_loss_increase'}, inplace=True)\n",
    "\n",
    "df_A_to_B_dist_B = df_results.loc[:, ['Name', 'A or B',  'A_to_B_metrics.dist_B.L2FastGradientAttack.success_rate', 'A_to_B_metrics.dist_B.L2FastGradientAttack.mean_loss_increase', 'A_to_B_metrics.dist_B.BoundaryAttack.success_rate', 'A_to_B_metrics.dist_B.BoundaryAttack.mean_loss_increase']]\n",
    "df_A_to_B_dist_B['transfer_dist'] = 'dist_B'\n",
    "df_A_to_B_dist_B['Target'] = 'B'\n",
    "df_A_to_B_dist_B['A or B'] = 'A_to_B'\n",
    "df_A_to_B_dist_B['Model group'] = 'Surrogate A | Target B | Dataset B'\n",
    "df_A_to_B_dist_B.dropna(inplace=True)\n",
    "df_A_to_B_dist_B.rename(columns={'A_to_B_metrics.dist_B.L2FastGradientAttack.success_rate': 'FGA_success_rate', 'A_to_B_metrics.dist_B.L2FastGradientAttack.mean_loss_increase': 'FGA_mean_loss_increase', 'A_to_B_metrics.dist_B.BoundaryAttack.success_rate': 'Boundary_success_rate', 'A_to_B_metrics.dist_B.BoundaryAttack.mean_loss_increase': 'Boundary_mean_loss_increase'}, inplace=True)\n",
    "\n",
    "df_B_to_A_dist_A = df_results.loc[:, ['Name', 'A or B', 'B_to_A_metrics.dist_A.L2FastGradientAttack.success_rate', 'B_to_A_metrics.dist_A.L2FastGradientAttack.mean_loss_increase', 'B_to_A_metrics.dist_A.BoundaryAttack.success_rate', 'B_to_A_metrics.dist_A.BoundaryAttack.mean_loss_increase']]\n",
    "df_B_to_A_dist_A['transfer_dist'] = 'dist_A'\n",
    "df_B_to_A_dist_A['Target'] = 'A'\n",
    "df_B_to_A_dist_A['A or B'] = 'B_to_A'\n",
    "df_B_to_A_dist_A['Model group'] = 'Surrogate B | Target A | Dataset A'\n",
    "df_B_to_A_dist_A.dropna(inplace=True)\n",
    "df_B_to_A_dist_A.rename(columns={'B_to_A_metrics.dist_A.L2FastGradientAttack.success_rate': 'FGA_success_rate', 'B_to_A_metrics.dist_A.L2FastGradientAttack.mean_loss_increase': 'FGA_mean_loss_increase', 'B_to_A_metrics.dist_A.BoundaryAttack.success_rate': 'Boundary_success_rate', 'B_to_A_metrics.dist_A.BoundaryAttack.mean_loss_increase': 'Boundary_mean_loss_increase'}, inplace=True)\n",
    "\n",
    "df_B_to_A_dist_B = df_results.loc[:, ['Name', 'A or B', 'B_to_A_metrics.dist_B.L2FastGradientAttack.success_rate', 'B_to_A_metrics.dist_B.L2FastGradientAttack.mean_loss_increase', 'B_to_A_metrics.dist_B.BoundaryAttack.success_rate', 'B_to_A_metrics.dist_B.BoundaryAttack.mean_loss_increase']]\n",
    "df_B_to_A_dist_B['transfer_dist'] = 'dist_B'\n",
    "df_B_to_A_dist_B['Target'] = 'A'\n",
    "df_B_to_A_dist_B['A or B'] = 'B_to_A'\n",
    "df_B_to_A_dist_B['Model group'] = 'Surrogate B | Target A | Dataset B'\n",
    "df_B_to_A_dist_B.dropna(inplace=True)\n",
    "df_B_to_A_dist_B.rename(columns={'B_to_A_metrics.dist_B.L2FastGradientAttack.success_rate': 'FGA_success_rate', 'B_to_A_metrics.dist_B.L2FastGradientAttack.mean_loss_increase': 'FGA_mean_loss_increase', 'B_to_A_metrics.dist_B.BoundaryAttack.success_rate': 'Boundary_success_rate', 'B_to_A_metrics.dist_B.BoundaryAttack.mean_loss_increase': 'Boundary_mean_loss_increase'}, inplace=True)"
   ]
  },
  {
   "cell_type": "code",
   "execution_count": null,
   "metadata": {},
   "outputs": [],
   "source": [
    "# Concatenate the four dataframes\n",
    "df_transfer_metrics = pd.concat([df_A_to_B_dist_A, df_A_to_B_dist_B, df_B_to_A_dist_A, df_B_to_A_dist_B])\n",
    "df_transfer_metrics['Experiment group'] = df_transfer_metrics['Name'].apply(lambda x: x[:-2])\n",
    "df_transfer_metrics['Join target'] = df_transfer_metrics['Experiment group'] + '_' + df_transfer_metrics['Target'] + '_' + df_transfer_metrics['transfer_dist']\n",
    "df_transfer_metrics['Join surrogate'] = df_transfer_metrics['Name'] + '_' + df_transfer_metrics['transfer_dist']\n",
    "df_transfer_metrics.head()"
   ]
  },
  {
   "cell_type": "code",
   "execution_count": null,
   "metadata": {},
   "outputs": [],
   "source": [
    "# Create a dataframe for each surrogate, target and dist combination ('model group') containing the vulnerability metrics\n",
    "# Rename columns that refer to the vuln success rate and vuln mean loss increase for each model group so that they all have the same names\n",
    "df_A_to_B_dist_A = df_results.loc[:, ['Name', 'A or B', 'Transform Group', 'vulnerability_A.vulnerability_AA_fga.success_rate', 'vulnerability_A.vulnerability_AA_fga.mean_loss_increase', 'vulnerability_A.vulnerability_AA_boundary.success_rate', 'vulnerability_A.vulnerability_AA_boundary.mean_loss_increase']]\n",
    "df_A_to_B_dist_A['vuln_dist'] = 'dist_A'\n",
    "df_A_to_B_dist_A['Model'] = 'A'\n",
    "df_A_to_B_dist_A['Model group'] = 'Model A | Dataset A'\n",
    "df_A_to_B_dist_A.dropna(inplace=True)\n",
    "df_A_to_B_dist_A.rename(columns={'vulnerability_A.vulnerability_AA_fga.success_rate': 'FGA_vuln_success_rate', 'vulnerability_A.vulnerability_AA_fga.mean_loss_increase': 'FGA_vuln_mean_loss_increase', 'vulnerability_A.vulnerability_AA_boundary.success_rate': 'Boundary_vuln_success_rate', 'vulnerability_A.vulnerability_AA_boundary.mean_loss_increase': 'Boundary_vuln_mean_loss_increase'}, inplace=True)\n",
    "\n",
    "df_A_to_B_dist_B = df_results.loc[:, ['Name', 'A or B', 'Transform Group', 'vulnerability_A.vulnerability_AB_fga.success_rate', 'vulnerability_A.vulnerability_AB_fga.mean_loss_increase', 'vulnerability_A.vulnerability_AB_boundary.success_rate', 'vulnerability_A.vulnerability_AB_boundary.mean_loss_increase']]\n",
    "df_A_to_B_dist_B['vuln_dist'] = 'dist_B'\n",
    "df_A_to_B_dist_B['Model'] = 'A'\n",
    "df_A_to_B_dist_B['Model group'] = 'Model A | Dataset B'\n",
    "df_A_to_B_dist_B.dropna(inplace=True)\n",
    "df_A_to_B_dist_B.rename(columns={'vulnerability_A.vulnerability_AB_fga.success_rate': 'FGA_vuln_success_rate', 'vulnerability_A.vulnerability_AB_fga.mean_loss_increase': 'FGA_vuln_mean_loss_increase', 'vulnerability_A.vulnerability_AB_boundary.success_rate': 'Boundary_vuln_success_rate', 'vulnerability_A.vulnerability_AB_boundary.mean_loss_increase': 'Boundary_vuln_mean_loss_increase'}, inplace=True)\n",
    "\n",
    "df_B_to_A_dist_A = df_results.loc[:, ['Name', 'A or B', 'Transform Group', 'vulnerability_B.vulnerability_BA_fga.success_rate', 'vulnerability_B.vulnerability_BA_fga.mean_loss_increase', 'vulnerability_B.vulnerability_BA_boundary.success_rate', 'vulnerability_B.vulnerability_BA_boundary.mean_loss_increase']]\n",
    "df_B_to_A_dist_A['vuln_dist'] = 'dist_A'\n",
    "df_B_to_A_dist_A['Model'] = 'B'\n",
    "df_B_to_A_dist_A['Model group'] = 'Model B | Dataset A'\n",
    "df_B_to_A_dist_A.dropna(inplace=True)\n",
    "df_B_to_A_dist_A.rename(columns={'vulnerability_B.vulnerability_BA_fga.success_rate': 'FGA_vuln_success_rate', 'vulnerability_B.vulnerability_BA_fga.mean_loss_increase': 'FGA_vuln_mean_loss_increase', 'vulnerability_B.vulnerability_BA_boundary.success_rate': 'Boundary_vuln_success_rate', 'vulnerability_B.vulnerability_BA_boundary.mean_loss_increase': 'Boundary_vuln_mean_loss_increase'}, inplace=True)\n",
    "\n",
    "df_B_to_A_dist_B = df_results.loc[:, ['Name', 'A or B', 'Transform Group', 'vulnerability_B.vulnerability_BB_fga.success_rate', 'vulnerability_B.vulnerability_BB_fga.mean_loss_increase', 'vulnerability_B.vulnerability_BB_boundary.success_rate', 'vulnerability_B.vulnerability_BB_boundary.mean_loss_increase']]\n",
    "df_B_to_A_dist_B['vuln_dist'] = 'dist_B'\n",
    "df_B_to_A_dist_B['Model'] = 'B'\n",
    "df_B_to_A_dist_B['Model group'] = 'Model B | Dataset B'\n",
    "df_B_to_A_dist_B.dropna(inplace=True)\n",
    "df_B_to_A_dist_B.rename(columns={'vulnerability_B.vulnerability_BB_fga.success_rate': 'FGA_vuln_success_rate', 'vulnerability_B.vulnerability_BB_fga.mean_loss_increase': 'FGA_vuln_mean_loss_increase', 'vulnerability_B.vulnerability_BB_boundary.success_rate': 'Boundary_vuln_success_rate', 'vulnerability_B.vulnerability_BB_boundary.mean_loss_increase': 'Boundary_vuln_mean_loss_increase'}, inplace=True)\n"
   ]
  },
  {
   "cell_type": "code",
   "execution_count": null,
   "metadata": {},
   "outputs": [],
   "source": [
    "# Concatenate the four dataframes\n",
    "df_vuln_metrics = pd.concat([df_A_to_B_dist_A, df_A_to_B_dist_B, df_B_to_A_dist_A, df_B_to_A_dist_B])\n",
    "df_vuln_metrics['Experiment group'] = df_vuln_metrics['Name'].apply(lambda x: x[:-2])\n",
    "df_vuln_metrics['Join'] = df_vuln_metrics['Experiment group'] + '_' + df_vuln_metrics['Model'] + '_' + df_vuln_metrics['vuln_dist']\n",
    "df_vuln_metrics.head()"
   ]
  },
  {
   "cell_type": "markdown",
   "metadata": {},
   "source": [
    "<H2>Box-plots of vulnerability values</H2>"
   ]
  },
  {
   "cell_type": "code",
   "execution_count": null,
   "metadata": {},
   "outputs": [],
   "source": [
    "fig, ax = plt.subplots(2, 1, figsize=(10,10))\n",
    "\n",
    "plt_funcs.plot_white_boxplot(df_transfer_metrics, 'FGA_success_rate', 'Fast Gradient Attack - Transfer Success Rate', ax[0], y='Model group', xlabel='')\n",
    "\n",
    "plt_funcs.plot_white_boxplot(df_transfer_metrics, 'FGA_mean_loss_increase', 'Fast Gradient Attack - Transfer Mean Loss Increase', ax[1], y='Model group', xlabel='')\n",
    "\n",
    "fig.tight_layout(rect=[0, 0.01, 1, 0.99])"
   ]
  },
  {
   "cell_type": "code",
   "execution_count": null,
   "metadata": {},
   "outputs": [],
   "source": [
    "fig, ax = plt.subplots(2, 1, figsize=(10,10))\n",
    "\n",
    "plt_funcs.plot_white_boxplot(df_transfer_metrics, 'Boundary_success_rate', 'Boundary Attack - Transfer Success Rate', ax[0], y='Model group', xlabel='', xmin=-0.05, xmax=0.2, xticks=[-0.05, 0, 0.05, 0.1, 0.15, 0.2])\n",
    "\n",
    "plt_funcs.plot_white_boxplot(df_transfer_metrics, 'Boundary_mean_loss_increase', 'Boundary Attack - Transfer Mean Loss Increase', ax[1], y='Model group', xlabel=-0.05, xmax=0.2, xticks=[-0.05, 0, 0.05, 0.1, 0.15, 0.2] )\n",
    "\n",
    "fig.tight_layout(rect=[0, 0.01, 1, 0.99])"
   ]
  },
  {
   "cell_type": "code",
   "execution_count": null,
   "metadata": {},
   "outputs": [],
   "source": [
    "fig, ax = plt.subplots(2, 1, figsize=(10,10))\n",
    "\n",
    "plt_funcs.plot_white_boxplot(df_vuln_metrics, 'FGA_vuln_success_rate', 'Fast Gradient Attack - Vulnerability Success Rate', ax[0], y='Model group', xlabel='')\n",
    "\n",
    "plt_funcs.plot_white_boxplot(df_vuln_metrics, 'FGA_vuln_mean_loss_increase', 'Fast Gradient Attack - Vulnerability Mean Loss Increase', ax[1], y='Model group', xlabel='')\n",
    "\n",
    "fig.tight_layout(rect=[0, 0.01, 1, 0.99])\n",
    "\n",
    "plt.savefig('../output/H1_FGA_vuln_boxplots.png', bbox_inches='tight')"
   ]
  },
  {
   "cell_type": "code",
   "execution_count": null,
   "metadata": {},
   "outputs": [],
   "source": [
    "fig, ax = plt.subplots(2, 1, figsize=(10,10))\n",
    "\n",
    "plt_funcs.plot_white_boxplot(df_vuln_metrics, 'Boundary_vuln_success_rate', 'Boundary Attack - Vulnerability Success Rate', ax[0], y='Model group', xlabel='', xmin=0, xmax=0.5, xticks=[0, 0.1, 0.2, 0.3, 0.4, 0.5])\n",
    "\n",
    "plt_funcs.plot_white_boxplot(df_vuln_metrics, 'Boundary_vuln_mean_loss_increase', 'Boundary Attack - Vulnerability Mean Loss Increase', ax[1], y='Model group', xlabel='', xmin=0, xmax=0.5, xticks=[0, 0.1, 0.2, 0.3, 0.4, 0.5])\n",
    "\n",
    "fig.tight_layout(rect=[0, 0.01, 1, 0.99])\n",
    "\n",
    "plt.savefig('../output/H1_BA_vuln_boxplots.png', bbox_inches='tight')"
   ]
  },
  {
   "cell_type": "markdown",
   "metadata": {},
   "source": [
    "<H2>Hypothesis 1 - data</H2>"
   ]
  },
  {
   "cell_type": "code",
   "execution_count": null,
   "metadata": {},
   "outputs": [],
   "source": [
    "# Join the dataframes for the transfer metrics and vulnerability metrics for Hypothesis 1\n",
    "df_target_vuln = pd.concat([df_transfer_metrics.set_index('Join target'), df_vuln_metrics.set_index('Join')], axis=1, join='inner')"
   ]
  },
  {
   "cell_type": "code",
   "execution_count": null,
   "metadata": {},
   "outputs": [],
   "source": [
    "def split_by_model_dist(df_data):\n",
    "    df_modelB_distA = df_data[(df_data['Model'] == 'B') & (df_data['vuln_dist'] == 'dist_A')]\n",
    "    df_modelB_distB = df_data[(df_data['Model'] == 'B') & (df_data['vuln_dist'] == 'dist_B')]\n",
    "    df_modelA_distA = df_data[(df_data['Model'] == 'A') & (df_data['vuln_dist'] == 'dist_A')]\n",
    "    df_modelA_distB = df_data[(df_data['Model'] == 'A') & (df_data['vuln_dist'] == 'dist_B')]\n",
    "\n",
    "    return df_modelB_distA, df_modelB_distB, df_modelA_distA, df_modelA_distB"
   ]
  },
  {
   "cell_type": "code",
   "execution_count": null,
   "metadata": {},
   "outputs": [],
   "source": [
    "df_targetB_distA, df_targetB_distB, df_targetA_distA, df_targetA_distB = split_by_model_dist(df_target_vuln)"
   ]
  },
  {
   "cell_type": "code",
   "execution_count": null,
   "metadata": {},
   "outputs": [],
   "source": [
    "# This is to double check the correlations are the same as are in the report, a check that \n",
    "# joining the data has been done correctly.\n",
    "print('H1 Target Vulnerability - FGA - Success Rate')\n",
    "print('A to B | dist A :', pearsonr(df_targetB_distA['FGA_vuln_success_rate'], df_targetB_distA['FGA_success_rate']))\n",
    "print('A to B | dist B :', pearsonr(df_targetB_distB['FGA_vuln_success_rate'], df_targetB_distB['FGA_success_rate']))\n",
    "print('B to A | dist A :', pearsonr(df_targetA_distA['FGA_vuln_success_rate'], df_targetA_distA['FGA_success_rate']))\n",
    "print('B to A | dist B :', pearsonr(df_targetA_distB['FGA_vuln_success_rate'], df_targetA_distB['FGA_success_rate']))"
   ]
  },
  {
   "cell_type": "code",
   "execution_count": null,
   "metadata": {},
   "outputs": [],
   "source": [
    "print('Target Vulnerability - Boundary Attack - Success Rate')\n",
    "print('A to B | dist A :', pearsonr(df_targetB_distA['Boundary_vuln_success_rate'], df_targetB_distA['Boundary_success_rate']))\n",
    "print('A to B | dist B :', pearsonr(df_targetB_distB['Boundary_vuln_success_rate'], df_targetB_distB['Boundary_success_rate']))\n",
    "print('B to A | dist A :', pearsonr(df_targetA_distA['Boundary_vuln_success_rate'], df_targetA_distA['Boundary_success_rate']))\n",
    "print('B to A | dist B :', pearsonr(df_targetA_distB['Boundary_vuln_success_rate'], df_targetA_distB['Boundary_success_rate']))"
   ]
  },
  {
   "cell_type": "code",
   "execution_count": null,
   "metadata": {},
   "outputs": [],
   "source": [
    "print('H1 Target Vulnerability - FGA - Mean Loss Increase')\n",
    "print('A to B | dist A :', pearsonr(df_targetB_distA['FGA_vuln_mean_loss_increase'], df_targetB_distA['FGA_mean_loss_increase']))\n",
    "print('A to B | dist B :', pearsonr(df_targetB_distB['FGA_vuln_mean_loss_increase'], df_targetB_distB['FGA_mean_loss_increase']))\n",
    "print('B to A | dist A :', pearsonr(df_targetA_distA['FGA_vuln_mean_loss_increase'], df_targetA_distA['FGA_mean_loss_increase']))\n",
    "print('B to A | dist B :', pearsonr(df_targetA_distB['FGA_vuln_mean_loss_increase'], df_targetA_distB['FGA_mean_loss_increase']))"
   ]
  },
  {
   "cell_type": "code",
   "execution_count": null,
   "metadata": {},
   "outputs": [],
   "source": [
    "print('H1 Target Vulnerability - Boundary Attack - Mean Loss Increase')\n",
    "print('A to B | dist A :', pearsonr(df_targetB_distA['Boundary_vuln_mean_loss_increase'], df_targetB_distA['Boundary_mean_loss_increase']))\n",
    "print('A to B | dist B :', pearsonr(df_targetB_distB['Boundary_vuln_mean_loss_increase'], df_targetB_distB['Boundary_mean_loss_increase']))\n",
    "print('B to A | dist A :', pearsonr(df_targetA_distA['Boundary_vuln_mean_loss_increase'], df_targetA_distA['Boundary_mean_loss_increase']))\n",
    "print('B to A | dist B :', pearsonr(df_targetA_distB['Boundary_vuln_mean_loss_increase'], df_targetA_distB['Boundary_mean_loss_increase']))"
   ]
  },
  {
   "cell_type": "markdown",
   "metadata": {},
   "source": [
    "<H2>Hypothesis 1 scatter plots</H2>"
   ]
  },
  {
   "cell_type": "code",
   "execution_count": null,
   "metadata": {},
   "outputs": [],
   "source": [
    "fig, ax = plt.subplots(1, 4, figsize = (20, 5))\n",
    "\n",
    "xticks = [0, 0.2, 0.4, 0.6, 0.8, 1]\n",
    "yticks = [0, 0.2, 0.4, 0.6, 0.8, 1]\n",
    "xmin = 0\n",
    "ymin = 0\n",
    "ymax = 1\n",
    "\n",
    "plt_funcs.plot_scatter(df_targetB_distA, 'FGA_vuln_success_rate', 'FGA_vuln_mean_loss_increase', ax[0], title = 'Target B | Distribution A', xlabel='Vulnerability Success Rate', ylabel = 'Vulnerability Mean Loss Increase', hue='Transform Group', hue_order = constants.TRANSFORM_ORDER, xmin = xmin, xticks = xticks, ymin = ymin, ymax=ymax, yticks=yticks)\n",
    "plt_funcs.plot_scatter(df_targetB_distB, 'FGA_vuln_success_rate', 'FGA_vuln_mean_loss_increase', ax[1], title = 'Target B | Distribution B', xlabel='Vulnerability Success Rate', ylabel = '', hue='Transform Group', hue_order = constants.TRANSFORM_ORDER, xmin = xmin, xticks = xticks, ymin = ymin, ymax=ymax, yticks=yticks)\n",
    "plt_funcs.plot_scatter(df_targetA_distA, 'FGA_vuln_success_rate', 'FGA_vuln_mean_loss_increase', ax[2], title = 'Target A | Distribution A', xlabel='Vulnerability Success Rate', ylabel = '', hue='Transform Group', hue_order = constants.TRANSFORM_ORDER, xmin = xmin, xticks = xticks, ymin = ymin, ymax=ymax, yticks=yticks)\n",
    "plt_funcs.plot_scatter(df_targetA_distB, 'FGA_vuln_success_rate', 'FGA_vuln_mean_loss_increase', ax[3], title = 'Target A | Distribution B', xlabel='Vulnerability Success Rate', ylabel = '', hue='Transform Group', hue_order = constants.TRANSFORM_ORDER, xmin = xmin, xticks = xticks, ymin = ymin, ymax=ymax, yticks=yticks)\n",
    "\n",
    "fig.suptitle('H1 - Fast Gradient Attack - Vuln Mean Loss Increase vs Success Rate', fontsize=15, y=1.01)\n",
    "handles, labels = ax[0].get_legend_handles_labels()\n",
    "fig.legend(handles, labels, loc='upper center', ncol=len(handles), bbox_to_anchor=(0.5, 0.96))\n",
    "fig.tight_layout(rect=[0, 0.01, 1, 0.95])\n"
   ]
  },
  {
   "cell_type": "code",
   "execution_count": null,
   "metadata": {},
   "outputs": [],
   "source": [
    "fig, ax = plt.subplots(1, 4, figsize = (20, 5))\n",
    "\n",
    "xticks = [0, 0.1, 0.2, 0.3, 0.4, 0.5]\n",
    "yticks = [0, 0.1, 0.2]\n",
    "\n",
    "xmin = 0\n",
    "xmax = 0.5\n",
    "ymin = 0\n",
    "ymax = 0.2\n",
    "\n",
    "plt_funcs.plot_scatter(df_targetB_distA, 'Boundary_vuln_success_rate', 'Boundary_mean_loss_increase', ax[0], title = 'Target B | Distribution A', xlabel='Vulnerability Success Rate', ylabel = 'Vulnerability Mean Loss Increase', hue='Transform Group', hue_order = constants.TRANSFORM_ORDER, xmin = xmin, xmax=xmax, xticks = xticks, ymin = ymin, ymax=ymax, yticks=yticks)\n",
    "plt_funcs.plot_scatter(df_targetB_distB, 'Boundary_vuln_success_rate', 'Boundary_mean_loss_increase', ax[1], title = 'Target B | Distribution B', xlabel='Vulnerability Success Rate', ylabel = '', hue='Transform Group', hue_order = constants.TRANSFORM_ORDER, xmin = xmin, xmax=xmax, xticks = xticks, ymin = ymin, ymax=ymax, yticks=yticks)\n",
    "plt_funcs.plot_scatter(df_targetA_distA, 'Boundary_vuln_success_rate', 'Boundary_mean_loss_increase', ax[2], title = 'Target A | Distribution A', xlabel='Vulnerability Success Rate', ylabel = '', hue='Transform Group', hue_order = constants.TRANSFORM_ORDER, xmin = xmin, xmax=xmax, xticks = xticks, ymin = ymin, ymax=ymax, yticks=yticks)\n",
    "plt_funcs.plot_scatter(df_targetA_distB, 'Boundary_vuln_success_rate', 'Boundary_mean_loss_increase', ax[3], title = 'Target A | Distribution B', xlabel='Vulnerability Success Rate', ylabel = '', hue='Transform Group', hue_order = constants.TRANSFORM_ORDER, xmin = xmin, xmax=xmax, xticks = xticks, ymin = ymin, ymax=ymax, yticks=yticks)\n",
    "\n",
    "fig.suptitle('H1 - Boundary Attack - Vuln Mean Loss Increase vs Success Rate', fontsize=15, y=1.01)\n",
    "handles, labels = ax[0].get_legend_handles_labels()\n",
    "fig.legend(handles, labels, loc='upper center', ncol=len(handles), bbox_to_anchor=(0.5, 0.96))\n",
    "fig.tight_layout(rect=[0, 0.01, 1, 0.95])\n"
   ]
  },
  {
   "cell_type": "code",
   "execution_count": null,
   "metadata": {},
   "outputs": [],
   "source": [
    "fig, ax = plt.subplots(1, 4, figsize = (20, 5))\n",
    "\n",
    "xticks = [0.6, 0.7, 0.8, 0.9, 1]\n",
    "yticks = [0, 0.2, 0.4, 0.6, 0.8, 1]\n",
    "xmin = 0.6\n",
    "ymin = 0\n",
    "ymax = 1\n",
    "\n",
    "plt_funcs.plot_scatter(df_targetB_distA, 'FGA_vuln_success_rate', 'FGA_success_rate', ax[0], title = 'Target B | Distribution A', xlabel='Vulnerability Success Rate', ylabel = 'Transfer Success Rate', hue='Transform Group', hue_order = constants.TRANSFORM_ORDER, xmin = xmin, xticks = xticks, ymin = ymin, ymax=ymax, yticks=yticks)\n",
    "plt_funcs.plot_scatter(df_targetB_distB, 'FGA_vuln_success_rate', 'FGA_success_rate', ax[1], title = 'Target B | Distribution B', xlabel='Vulnerability Success Rate', ylabel = '', hue='Transform Group', hue_order = constants.TRANSFORM_ORDER, xmin = xmin, xticks = xticks, ymin = ymin, ymax=ymax, yticks=yticks)\n",
    "plt_funcs.plot_scatter(df_targetA_distA, 'FGA_vuln_success_rate', 'FGA_success_rate', ax[2], title = 'Target A | Distribution A', xlabel='Vulnerability Success Rate', ylabel = '', hue='Transform Group', hue_order = constants.TRANSFORM_ORDER, xmin = xmin, xticks = xticks, ymin = ymin, ymax=ymax, yticks=yticks)\n",
    "plt_funcs.plot_scatter(df_targetA_distB, 'FGA_vuln_success_rate', 'FGA_success_rate', ax[3], title = 'Target A | Distribution B', xlabel='Vulnerability Success Rate', ylabel = '', hue='Transform Group', hue_order = constants.TRANSFORM_ORDER, xmin = xmin, xticks = xticks, ymin = ymin, ymax=ymax, yticks=yticks)\n",
    "\n",
    "fig.suptitle('H1 - Fast Gradient Attack - Success Rate', fontsize=15, y=1.01)\n",
    "handles, labels = ax[0].get_legend_handles_labels()\n",
    "fig.legend(handles, labels, loc='upper center', ncol=len(handles), bbox_to_anchor=(0.5, 0.96))\n",
    "fig.tight_layout(rect=[0, 0.01, 1, 0.95])\n",
    "\n",
    "plt.savefig('../output/H1_FGA_vuln_vs_success_rate_scatter.png', bbox_inches='tight')"
   ]
  },
  {
   "cell_type": "code",
   "execution_count": null,
   "metadata": {},
   "outputs": [],
   "source": [
    "fig, ax = plt.subplots(1, 4, figsize = (20, 5))\n",
    "\n",
    "xticks = [0, 0.1, 0.2, 0.3, 0.4, 0.5]\n",
    "yticks = [0, 0.1, 0.2, 0.3, 0.4, 0.5]\n",
    "\n",
    "xmin = 0\n",
    "xmax = 0.5\n",
    "ymin = 0\n",
    "ymax = 0.5\n",
    "\n",
    "plt_funcs.plot_scatter(df_targetB_distA, 'Boundary_vuln_success_rate', 'Boundary_success_rate', ax[0], title = 'Target B | Distribution A', xlabel='Vulnerability Success Rate', ylabel = 'Transfer Success Rate', hue='Transform Group', hue_order = constants.TRANSFORM_ORDER, xmin = xmin, xmax=xmax, xticks = xticks, ymin = ymin, ymax=ymax, yticks=yticks)\n",
    "plt_funcs.plot_scatter(df_targetB_distB, 'Boundary_vuln_success_rate', 'Boundary_success_rate', ax[1], title = 'Target B | Distribution B', xlabel='Vulnerability Success Rate', ylabel = '', hue='Transform Group', hue_order = constants.TRANSFORM_ORDER, xmin = xmin, xmax=xmax, xticks = xticks, ymin = ymin, ymax=ymax, yticks=yticks)\n",
    "plt_funcs.plot_scatter(df_targetA_distA, 'Boundary_vuln_success_rate', 'Boundary_success_rate', ax[2], title = 'Target A | Distribution A', xlabel='Vulnerability Success Rate', ylabel = '', hue='Transform Group', hue_order = constants.TRANSFORM_ORDER, xmin = xmin, xmax=xmax, xticks = xticks, ymin = ymin, ymax=ymax, yticks=yticks)\n",
    "plt_funcs.plot_scatter(df_targetA_distB, 'Boundary_vuln_success_rate', 'Boundary_success_rate', ax[3], title = 'Target A | Distribution B', xlabel='Vulnerability Success Rate', ylabel = '', hue='Transform Group', hue_order = constants.TRANSFORM_ORDER, xmin = xmin, xmax=xmax, xticks = xticks, ymin = ymin, ymax=ymax, yticks=yticks)\n",
    "\n",
    "fig.suptitle('H1 - Boundary Attack - Success Rate', fontsize=15, y=1.01)\n",
    "handles, labels = ax[0].get_legend_handles_labels()\n",
    "fig.legend(handles, labels, loc='upper center', ncol=len(handles), bbox_to_anchor=(0.5, 0.96))\n",
    "fig.tight_layout(rect=[0, 0.01, 1, 0.95])\n",
    "\n",
    "plt.savefig('../output/H1_BA_vuln_vs_success_rate_scatter.png', bbox_inches='tight')"
   ]
  },
  {
   "cell_type": "code",
   "execution_count": null,
   "metadata": {},
   "outputs": [],
   "source": [
    "fig, ax = plt.subplots(1, 4, figsize = (20, 5))\n",
    "\n",
    "xticks = [0, 0.2, 0.4, 0.6, 0.8, 1]\n",
    "yticks = [0, 0.2, 0.4, 0.6, 0.8, 1]\n",
    "xmin = 0\n",
    "ymin = 0\n",
    "ymax = 1\n",
    "\n",
    "plt_funcs.plot_scatter(df_targetB_distA, 'FGA_vuln_mean_loss_increase', 'FGA_mean_loss_increase', ax[0], title = 'Target B | Distribution A', xlabel='Vulnerability Mean Loss Increase', ylabel = 'Transfer Mean Loss Increase', hue='Transform Group', hue_order = constants.TRANSFORM_ORDER, xmin = xmin, xticks = xticks, ymin = ymin, ymax=ymax, yticks=yticks)\n",
    "plt_funcs.plot_scatter(df_targetB_distB, 'FGA_vuln_mean_loss_increase', 'FGA_mean_loss_increase', ax[1], title = 'Target B | Distribution B', xlabel='Vulnerability Mean Loss Increase', ylabel = '', hue='Transform Group', hue_order = constants.TRANSFORM_ORDER, xmin = xmin, xticks = xticks, ymin = ymin, ymax=ymax, yticks=yticks)\n",
    "plt_funcs.plot_scatter(df_targetA_distA, 'FGA_vuln_mean_loss_increase', 'FGA_mean_loss_increase', ax[2], title = 'Target A | Distribution A', xlabel='Vulnerability Mean Loss Increase', ylabel = '', hue='Transform Group', hue_order = constants.TRANSFORM_ORDER, xmin = xmin, xticks = xticks, ymin = ymin, ymax=ymax, yticks=yticks)\n",
    "plt_funcs.plot_scatter(df_targetA_distB, 'FGA_vuln_mean_loss_increase', 'FGA_mean_loss_increase', ax[3], title = 'Target A | Distribution B', xlabel='Vulnerability Mean Loss Increase', ylabel = '', hue='Transform Group', hue_order = constants.TRANSFORM_ORDER, xmin = xmin, xticks = xticks, ymin = ymin, ymax=ymax, yticks=yticks)\n",
    "\n",
    "fig.suptitle('H1 - Fast Gradient Attack - Mean Loss Increase', fontsize=15, y=1.01)\n",
    "handles, labels = ax[0].get_legend_handles_labels()\n",
    "fig.legend(handles, labels, loc='upper center', ncol=len(handles), bbox_to_anchor=(0.5, 0.96))\n",
    "fig.tight_layout(rect=[0, 0.01, 1, 0.95])\n",
    "\n",
    "plt.savefig('../output/H1_FGA_vuln_vs_mean_loss_scatter.png', bbox_inches='tight')"
   ]
  },
  {
   "cell_type": "code",
   "execution_count": null,
   "metadata": {},
   "outputs": [],
   "source": [
    "fig, ax = plt.subplots(1, 4, figsize = (20, 5))\n",
    "\n",
    "xticks = [0, 0.05, 0.1, 0.15, 0.2]\n",
    "yticks = [0, 0.05, 0.1, 0.15, 0.2]\n",
    "xmin = 0\n",
    "xmax = 0.2\n",
    "ymin = 0\n",
    "ymax = 0.2\n",
    "\n",
    "plt_funcs.plot_scatter(df_targetB_distA, 'Boundary_vuln_mean_loss_increase', 'Boundary_mean_loss_increase', ax[0], title = 'Target B | Distribution A', xlabel='Vulnerability Mean Loss Increase', ylabel = 'Transfer Mean Loss Increase', hue='Transform Group', hue_order = constants.TRANSFORM_ORDER, xmin = xmin, xmax=xmax, xticks = xticks, ymin = ymin, ymax=ymax, yticks=yticks)\n",
    "plt_funcs.plot_scatter(df_targetB_distB, 'Boundary_vuln_mean_loss_increase', 'Boundary_mean_loss_increase', ax[1], title = 'Target B | Distribution B', xlabel='Vulnerability Mean Loss Increase', ylabel = '', hue='Transform Group', hue_order = constants.TRANSFORM_ORDER, xmin = xmin, xmax=xmax, xticks = xticks, ymin = ymin, ymax=ymax, yticks=yticks)\n",
    "plt_funcs.plot_scatter(df_targetA_distA, 'Boundary_vuln_mean_loss_increase', 'Boundary_mean_loss_increase', ax[2], title = 'Target A | Distribution A', xlabel='Vulnerability Mean Loss Increase', ylabel = '', hue='Transform Group', hue_order = constants.TRANSFORM_ORDER, xmin = xmin, xmax=xmax, xticks = xticks, ymin = ymin, ymax=ymax, yticks=yticks)\n",
    "plt_funcs.plot_scatter(df_targetA_distB, 'Boundary_vuln_mean_loss_increase', 'Boundary_mean_loss_increase', ax[3], title = 'Target A | Distribution B', xlabel='Vulnerability Mean Loss Increase', ylabel = '', hue='Transform Group', hue_order = constants.TRANSFORM_ORDER, xmin = xmin, xmax=xmax, xticks = xticks, ymin = ymin, ymax=ymax, yticks=yticks)\n",
    "\n",
    "fig.suptitle('H1 - Boundary Attack - Mean Loss Increase', fontsize=15, y=1.01)\n",
    "handles, labels = ax[0].get_legend_handles_labels()\n",
    "fig.legend(handles, labels, loc='upper center', ncol=len(handles), bbox_to_anchor=(0.5, 0.96))\n",
    "fig.tight_layout(rect=[0, 0.01, 1, 0.95])\n",
    "\n",
    "plt.savefig('../output/H1_BA_vuln_vs_mean_loss_scatter.png', bbox_inches='tight')"
   ]
  },
  {
   "cell_type": "markdown",
   "metadata": {},
   "source": [
    "<H2>Hypothesis 2 - data</H2>"
   ]
  },
  {
   "cell_type": "code",
   "execution_count": null,
   "metadata": {},
   "outputs": [],
   "source": [
    "df_surrogate_vuln = pd.concat([df_transfer_metrics.set_index('Join surrogate'), df_vuln_metrics.set_index('Join')], axis=1, join='inner')"
   ]
  },
  {
   "cell_type": "code",
   "execution_count": null,
   "metadata": {},
   "outputs": [],
   "source": [
    "df_surrogateB_distA, df_surrogateB_distB, df_surrogateA_distA, df_surrogateA_distB = split_by_model_dist(df_surrogate_vuln)"
   ]
  },
  {
   "cell_type": "code",
   "execution_count": null,
   "metadata": {},
   "outputs": [],
   "source": [
    "# Confirm that the correlations are the same as in the report\n",
    "print('H2 Surrogate Vulnerability - FGA - Success Rate')\n",
    "print('A to B | dist A :', pearsonr(df_surrogateA_distA['FGA_vuln_success_rate'], df_surrogateA_distA['FGA_success_rate']))\n",
    "print('A to B | dist B :', pearsonr(df_surrogateA_distB['FGA_vuln_success_rate'], df_surrogateA_distB['FGA_success_rate']))\n",
    "print('B to A | dist A :', pearsonr(df_surrogateB_distA['FGA_vuln_success_rate'], df_surrogateB_distA['FGA_success_rate']))\n",
    "print('B to A | dist B :', pearsonr(df_surrogateB_distB['FGA_vuln_success_rate'], df_surrogateB_distB['FGA_success_rate']))"
   ]
  },
  {
   "cell_type": "code",
   "execution_count": null,
   "metadata": {},
   "outputs": [],
   "source": [
    "print('H2 Surrogate Vulnerability - Boundary Attack - Success Rate')\n",
    "print('A to B | dist A :', pearsonr(df_surrogateA_distA['Boundary_vuln_success_rate'], df_surrogateA_distA['Boundary_success_rate']))\n",
    "print('A to B | dist B :', pearsonr(df_surrogateA_distB['Boundary_vuln_success_rate'], df_surrogateA_distB['Boundary_success_rate']))\n",
    "print('B to A | dist A :', pearsonr(df_surrogateB_distA['Boundary_vuln_success_rate'], df_surrogateB_distA['Boundary_success_rate']))\n",
    "print('B to A | dist B :', pearsonr(df_surrogateB_distB['Boundary_vuln_success_rate'], df_surrogateB_distB['Boundary_success_rate']))"
   ]
  },
  {
   "cell_type": "code",
   "execution_count": null,
   "metadata": {},
   "outputs": [],
   "source": [
    "print('H2 Surrogate Vulnerability - FGA - Mean Loss Increase')\n",
    "print('A to B | dist A :', pearsonr(df_surrogateA_distA['FGA_vuln_mean_loss_increase'], df_surrogateA_distA['FGA_mean_loss_increase']))\n",
    "print('A to B | dist B :', pearsonr(df_surrogateA_distB['FGA_vuln_mean_loss_increase'], df_surrogateA_distB['FGA_mean_loss_increase']))\n",
    "print('B to A | dist A :', pearsonr(df_surrogateB_distA['FGA_vuln_mean_loss_increase'], df_surrogateB_distA['FGA_mean_loss_increase']))\n",
    "print('B to A | dist B :', pearsonr(df_surrogateB_distB['FGA_vuln_mean_loss_increase'], df_surrogateB_distB['FGA_mean_loss_increase']))"
   ]
  },
  {
   "cell_type": "code",
   "execution_count": null,
   "metadata": {},
   "outputs": [],
   "source": [
    "print('H2 Surrogate Vulnerability - Boundary Attack - Mean Loss Increase')\n",
    "print('A to B | dist A :', pearsonr(df_surrogateA_distA['Boundary_vuln_mean_loss_increase'], df_surrogateA_distA['Boundary_mean_loss_increase']))\n",
    "print('A to B | dist B :', pearsonr(df_surrogateA_distB['Boundary_vuln_mean_loss_increase'], df_surrogateA_distB['Boundary_mean_loss_increase']))\n",
    "print('B to A | dist A :', pearsonr(df_surrogateB_distA['Boundary_vuln_mean_loss_increase'], df_surrogateB_distA['Boundary_mean_loss_increase']))\n",
    "print('B to A | dist B :', pearsonr(df_surrogateB_distB['Boundary_vuln_mean_loss_increase'], df_surrogateB_distB['Boundary_mean_loss_increase']))"
   ]
  },
  {
   "cell_type": "markdown",
   "metadata": {},
   "source": [
    "<H2>Hypothesis 2 - scatter plots</H2>"
   ]
  },
  {
   "cell_type": "code",
   "execution_count": null,
   "metadata": {},
   "outputs": [],
   "source": [
    "fig, ax = plt.subplots(1, 4, figsize = (20, 5))\n",
    "\n",
    "xticks = [0.6, 0.7, 0.8, 0.9, 1]\n",
    "yticks = [0, 0.2, 0.4, 0.6, 0.8, 1]\n",
    "xmin = 0.6\n",
    "ymin = 0\n",
    "ymax = 1\n",
    "\n",
    "plt_funcs.plot_scatter(df_surrogateA_distA, 'FGA_vuln_success_rate', 'FGA_success_rate', ax[0], title = 'Surrogate A | Distribution A', xlabel='Vulnerability Success Rate', ylabel = 'Transfer Success Rate', hue='Transform Group', hue_order = constants.TRANSFORM_ORDER, xmin = xmin, xticks = xticks, ymin = ymin, ymax=ymax, yticks=yticks)\n",
    "plt_funcs.plot_scatter(df_surrogateA_distB, 'FGA_vuln_success_rate', 'FGA_success_rate', ax[1], title = 'Surrogate A | Distribution B', xlabel='Vulnerability Success Rate', ylabel = '', hue='Transform Group', hue_order = constants.TRANSFORM_ORDER, xmin = xmin, xticks = xticks, ymin = ymin, ymax=ymax, yticks=yticks)\n",
    "plt_funcs.plot_scatter(df_surrogateB_distA, 'FGA_vuln_success_rate', 'FGA_success_rate', ax[2], title = 'Surrogate B | Distribution A', xlabel='Vulnerability Success Rate', ylabel = '', hue='Transform Group', hue_order = constants.TRANSFORM_ORDER, xmin = xmin, xticks = xticks, ymin = ymin, ymax=ymax, yticks=yticks)\n",
    "plt_funcs.plot_scatter(df_surrogateB_distB, 'FGA_vuln_success_rate', 'FGA_success_rate', ax[3], title = 'Surrogate B | Distribution B', xlabel='Vulnerability Success Rate', ylabel = '', hue='Transform Group', hue_order = constants.TRANSFORM_ORDER, xmin = xmin, xticks = xticks, ymin = ymin, ymax=ymax, yticks=yticks)\n",
    "\n",
    "fig.suptitle('H2 - Fast Gradient Attack - Success Rate', fontsize=15, y=1.01)\n",
    "handles, labels = ax[0].get_legend_handles_labels()\n",
    "fig.legend(handles, labels, loc='upper center', ncol=len(handles), bbox_to_anchor=(0.5, 0.96))\n",
    "fig.tight_layout(rect=[0, 0.01, 1, 0.95])\n",
    "\n",
    "plt.savefig('../output/H2_FGA_vuln_vs_success_rate_scatter.png', bbox_inches='tight')"
   ]
  },
  {
   "cell_type": "code",
   "execution_count": null,
   "metadata": {},
   "outputs": [],
   "source": [
    "fig, ax = plt.subplots(1, 4, figsize = (20, 5))\n",
    "\n",
    "xticks = [0, 0.1, 0.2, 0.3, 0.4, 0.5]\n",
    "yticks = [0, 0.05, 0.1, 0.15, 0.2]\n",
    "\n",
    "xmin = 0\n",
    "xmax = 0.5\n",
    "ymin = 0\n",
    "ymax = 0.2\n",
    "\n",
    "plt_funcs.plot_scatter(df_surrogateA_distA, 'Boundary_vuln_success_rate', 'Boundary_success_rate', ax[0], title = 'Surrogate A | Distribution A', xlabel='Vulnerability Success Rate', ylabel = 'Transfer Success Rate', hue='Transform Group', hue_order = constants.TRANSFORM_ORDER, xmin = xmin, xmax=xmax, xticks = xticks, ymin = ymin, ymax=ymax, yticks=yticks)\n",
    "plt_funcs.plot_scatter(df_surrogateA_distB, 'Boundary_vuln_success_rate', 'Boundary_success_rate', ax[1], title = 'Surrogate A | Distribution B', xlabel='Vulnerability Success Rate', ylabel = '', hue='Transform Group', hue_order = constants.TRANSFORM_ORDER, xmin = xmin, xmax=xmax, xticks = xticks, ymin = ymin, ymax=ymax, yticks=yticks)\n",
    "plt_funcs.plot_scatter(df_surrogateB_distA, 'Boundary_vuln_success_rate', 'Boundary_success_rate', ax[2], title = 'Surrogate B | Distribution A', xlabel='Vulnerability Success Rate', ylabel = '', hue='Transform Group', hue_order = constants.TRANSFORM_ORDER, xmin = xmin, xmax=xmax, xticks = xticks, ymin = ymin, ymax=ymax, yticks=yticks)\n",
    "plt_funcs.plot_scatter(df_surrogateB_distB, 'Boundary_vuln_success_rate', 'Boundary_success_rate', ax[3], title = 'Surrogate B | Distribution B', xlabel='Vulnerability Success Rate', ylabel = '', hue='Transform Group', hue_order = constants.TRANSFORM_ORDER, xmin = xmin, xmax=xmax, xticks = xticks, ymin = ymin, ymax=ymax, yticks=yticks)\n",
    "\n",
    "fig.suptitle('H2 - Boundary Attack - Success Rate', fontsize=15, y=1.01)\n",
    "handles, labels = ax[0].get_legend_handles_labels()\n",
    "fig.legend(handles, labels, loc='upper center', ncol=len(handles), bbox_to_anchor=(0.5, 0.96))\n",
    "fig.tight_layout(rect=[0, 0.01, 1, 0.95])\n",
    "\n",
    "plt.savefig('../output/H2_BA_vuln_vs_success_rate_scatter.png', bbox_inches='tight')"
   ]
  },
  {
   "cell_type": "code",
   "execution_count": null,
   "metadata": {},
   "outputs": [],
   "source": [
    "fig, ax = plt.subplots(1, 4, figsize = (20, 5))\n",
    "\n",
    "xticks = [0, 0.2, 0.4, 0.6, 0.8, 1]\n",
    "yticks = [0, 0.2, 0.4, 0.6, 0.8, 1]\n",
    "xmin = 0\n",
    "ymin = 0\n",
    "ymax = 1\n",
    "\n",
    "plt_funcs.plot_scatter(df_surrogateA_distA, 'FGA_vuln_mean_loss_increase', 'FGA_mean_loss_increase', ax[0], title = 'Surrogate A | Distribution A', xlabel='Vulnerability Mean Loss Increase', ylabel = 'Transfer Mean Loss Increase', hue='Transform Group', hue_order = constants.TRANSFORM_ORDER, xmin = xmin, xticks = xticks, ymin = ymin, ymax=ymax, yticks=yticks)\n",
    "plt_funcs.plot_scatter(df_surrogateA_distB, 'FGA_vuln_mean_loss_increase', 'FGA_mean_loss_increase', ax[1], title = 'Surrogate A | Distribution B', xlabel='Vulnerability Mean Loss Increase', ylabel = '', hue='Transform Group', hue_order = constants.TRANSFORM_ORDER, xmin = xmin, xticks = xticks, ymin = ymin, ymax=ymax, yticks=yticks)\n",
    "plt_funcs.plot_scatter(df_surrogateB_distA, 'FGA_vuln_mean_loss_increase', 'FGA_mean_loss_increase', ax[2], title = 'Surrogate B | Distribution A', xlabel='Vulnerability Mean Loss Increase', ylabel = '', hue='Transform Group', hue_order = constants.TRANSFORM_ORDER, xmin = xmin, xticks = xticks, ymin = ymin, ymax=ymax, yticks=yticks)\n",
    "plt_funcs.plot_scatter(df_surrogateB_distB, 'FGA_vuln_mean_loss_increase', 'FGA_mean_loss_increase', ax[3], title = 'Surrogate B | Distribution B', xlabel='Vulnerability Mean Loss Increase', ylabel = '', hue='Transform Group', hue_order = constants.TRANSFORM_ORDER, xmin = xmin, xticks = xticks, ymin = ymin, ymax=ymax, yticks=yticks)\n",
    "\n",
    "fig.suptitle('H2 - Fast Gradient Attack - Mean Loss Increase', fontsize=15, y=1.01)\n",
    "handles, labels = ax[0].get_legend_handles_labels()\n",
    "fig.legend(handles, labels, loc='upper center', ncol=len(handles), bbox_to_anchor=(0.5, 0.96))\n",
    "fig.tight_layout(rect=[0, 0.01, 1, 0.95])\n",
    "\n",
    "plt.savefig('../output/H2_FGA_vuln_vs_mean_loss_scatter.png', bbox_inches='tight')"
   ]
  },
  {
   "cell_type": "code",
   "execution_count": null,
   "metadata": {},
   "outputs": [],
   "source": [
    "fig, ax = plt.subplots(1, 4, figsize = (20, 5))\n",
    "\n",
    "xticks = [0, 0.05, 0.1, 0.15, 0.2]\n",
    "yticks = [0, 0.05, 0.1, 0.15, 0.2]\n",
    "xmin = 0\n",
    "xmax = 0.2\n",
    "ymin = 0\n",
    "ymax = 0.2\n",
    "\n",
    "plt_funcs.plot_scatter(df_surrogateA_distA, 'Boundary_vuln_mean_loss_increase', 'Boundary_mean_loss_increase', ax[0], title = 'Surrogate A | Distribution A', xlabel='Vulnerability Mean Loss Increase', ylabel = 'Transfer Mean Loss Increase', hue='Transform Group', hue_order = constants.TRANSFORM_ORDER, xmin = xmin, xmax=xmax, xticks = xticks, ymin = ymin, ymax=ymax, yticks=yticks)\n",
    "plt_funcs.plot_scatter(df_surrogateA_distB, 'Boundary_vuln_mean_loss_increase', 'Boundary_mean_loss_increase', ax[1], title = 'Surrogate A | Distribution B', xlabel='Vulnerability Mean Loss Increase', ylabel = '', hue='Transform Group', hue_order = constants.TRANSFORM_ORDER, xmin = xmin, xmax=xmax, xticks = xticks, ymin = ymin, ymax=ymax, yticks=yticks)\n",
    "plt_funcs.plot_scatter(df_surrogateB_distA, 'Boundary_vuln_mean_loss_increase', 'Boundary_mean_loss_increase', ax[2], title = 'Surrogate B | Distribution A', xlabel='Vulnerability Mean Loss Increase', ylabel = '', hue='Transform Group', hue_order = constants.TRANSFORM_ORDER, xmin = xmin, xmax=xmax, xticks = xticks, ymin = ymin, ymax=ymax, yticks=yticks)\n",
    "plt_funcs.plot_scatter(df_surrogateB_distB, 'Boundary_vuln_mean_loss_increase', 'Boundary_mean_loss_increase', ax[3], title = 'Surrogate B | Distribution B', xlabel='Vulnerability Mean Loss Increase', ylabel = '', hue='Transform Group', hue_order = constants.TRANSFORM_ORDER, xmin = xmin, xmax=xmax, xticks = xticks, ymin = ymin, ymax=ymax, yticks=yticks)\n",
    "\n",
    "fig.suptitle('H2 - Boundary Attack - Mean Loss Increase', fontsize=15, y=1.01)\n",
    "handles, labels = ax[0].get_legend_handles_labels()\n",
    "fig.legend(handles, labels, loc='upper center', ncol=len(handles), bbox_to_anchor=(0.5, 0.96))\n",
    "fig.tight_layout(rect=[0, 0.01, 1, 0.95])\n",
    "\n",
    "plt.savefig('../output/H2_BA_vuln_vs_mean_loss_scatter.png', bbox_inches='tight')"
   ]
  },
  {
   "cell_type": "code",
   "execution_count": null,
   "metadata": {},
   "outputs": [],
   "source": []
  }
 ],
 "metadata": {
  "kernelspec": {
   "display_name": "arc-model-similarities-phase-2",
   "language": "python",
   "name": "arc-model-similarities-phase-2"
  },
  "language_info": {
   "codemirror_mode": {
    "name": "ipython",
    "version": 3
   },
   "file_extension": ".py",
   "mimetype": "text/x-python",
   "name": "python",
   "nbconvert_exporter": "python",
   "pygments_lexer": "ipython3",
   "version": "3.10.11"
  },
  "orig_nbformat": 4
 },
 "nbformat": 4,
 "nbformat_minor": 2
}
