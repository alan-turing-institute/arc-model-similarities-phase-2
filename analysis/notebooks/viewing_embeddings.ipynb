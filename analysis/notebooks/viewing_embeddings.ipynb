{
 "cells": [
  {
   "cell_type": "code",
   "execution_count": null,
   "metadata": {},
   "outputs": [],
   "source": [
    "import numpy as np\n",
    "import seaborn as sns\n",
    "import matplotlib.pyplot as plt"
   ]
  },
  {
   "cell_type": "markdown",
   "metadata": {},
   "source": [
    "<H2>Heatmaps of UMAP embeddings by transform group</H2>"
   ]
  },
  {
   "cell_type": "code",
   "execution_count": null,
   "metadata": {},
   "outputs": [],
   "source": [
    "# Numpy arrays of the UMAP embeddings were saved from the embeddings code in the project\n",
    "# No data were dropped\n",
    "# Load the numpy arrays\n",
    "umap_no_transforms = np.load('../data/umap_no_transform.npz')\n",
    "np_umap_no_transform = umap_no_transforms['umap_no_transform_drop_0']\n",
    "\n",
    "li_transform_names = ['grayscale', 'little_blur', 'big_blur', 'rotate_180']\n",
    "umap_transforms = np.load('../data/umap_transforms.npz')\n",
    "np_umap_grayscale = umap_transforms['umap_grayscale_drop_0']\n",
    "np_umap_little_blur = umap_transforms['umap_little_blur_drop_0']\n",
    "np_umap_big_blur = umap_transforms['umap_big_blur_drop_0']\n",
    "np_umap_rotate = umap_transforms['umap_rotate_180_drop_0']"
   ]
  },
  {
   "cell_type": "code",
   "execution_count": null,
   "metadata": {},
   "outputs": [],
   "source": [
    "edges = [[x, x+0.25, x + 0.5, x+0.75] for x in range(-2, 14)]\n",
    "edges = [item for items in edges for item in items]"
   ]
  },
  {
   "cell_type": "code",
   "execution_count": null,
   "metadata": {},
   "outputs": [],
   "source": [
    "heatmap_no_transform, _, _ = np.histogram2d(np_umap_no_transform[:, 0], np_umap_no_transform[:, 1], bins=[edges, edges], density=True)\n",
    "heatmap_grayscale, _, _ = np.histogram2d(np_umap_grayscale[:, 0], np_umap_grayscale[:, 1], bins=[edges, edges], density=True)\n",
    "heatmap_little_blur, _, _ = np.histogram2d(np_umap_little_blur[:, 0], np_umap_little_blur[:, 1], bins=[edges, edges], density=True)\n",
    "heatmap_big_blur, _, _ = np.histogram2d(np_umap_big_blur[:, 0], np_umap_big_blur[:, 1], bins=[edges, edges], density=True)\n",
    "heatmap_rotate, _, _ = np.histogram2d(np_umap_rotate[:, 0], np_umap_rotate[:, 1], bins=[edges, edges], density=True)\n",
    "\n",
    "fig, ax = plt.subplots(ncols=6, figsize=(32, 6), gridspec_kw=dict(width_ratios=[1,1,1,1,1,0.1]))\n",
    "\n",
    "vmin = min(heatmap_no_transform.min(), heatmap_grayscale.min(), heatmap_little_blur.min(), heatmap_big_blur.min(), heatmap_rotate.min())\n",
    "vmax = max(heatmap_no_transform.max(), heatmap_grayscale.max(), heatmap_little_blur.max(), heatmap_big_blur.max(), heatmap_rotate.max())\n",
    "\n",
    "\n",
    "sns.heatmap(heatmap_no_transform.T, ax=ax[0], cbar=False, vmin=vmin, vmax=vmax, xticklabels=10, yticklabels=10)\n",
    "sns.heatmap(heatmap_grayscale.T, ax=ax[1], cbar=False, vmin=vmin, vmax=vmax, xticklabels=10, yticklabels=False)\n",
    "sns.heatmap(heatmap_little_blur.T, ax=ax[2], cbar=False, vmin=vmin, vmax=vmax, xticklabels=10, yticklabels=False)\n",
    "sns.heatmap(heatmap_big_blur.T, ax=ax[3], cbar=False, vmin=vmin, vmax=vmax, xticklabels=10, yticklabels=False)\n",
    "sns.heatmap(heatmap_rotate.T, ax=ax[4], cbar=False, vmin=vmin, vmax=vmax, xticklabels=10, yticklabels=False)\n",
    "\n",
    "\n",
    "ax[0].set_title('No transform')\n",
    "ax[1].set_title('Grayscale')\n",
    "ax[2].set_title('Little Blur')\n",
    "ax[3].set_title('Big Blur')\n",
    "ax[4].set_title('Rotate 180')\n",
    "\n",
    "ax[0].invert_yaxis()\n",
    "ax[1].invert_yaxis()\n",
    "ax[2].invert_yaxis()\n",
    "ax[3].invert_yaxis()\n",
    "ax[4].invert_yaxis()\n",
    "\n",
    "fig.colorbar(ax[0].collections[0], cax=ax[5])\n",
    "\n",
    "plt.savefig('../output/transforms_umap.png')"
   ]
  },
  {
   "cell_type": "markdown",
   "metadata": {},
   "source": [
    "<H2>Heatmaps of UMAP embeddings - no transform and dropped records</H2>"
   ]
  },
  {
   "cell_type": "code",
   "execution_count": null,
   "metadata": {},
   "outputs": [],
   "source": [
    "np_umap_no_transform_25 = umap_no_transforms['umap_no_transform_drop_25']\n",
    "np_umap_no_transform_50 = umap_no_transforms['umap_no_transform_drop_50']\n",
    "np_umap_no_transform_75 = umap_no_transforms['umap_no_transform_drop_75']"
   ]
  },
  {
   "cell_type": "code",
   "execution_count": null,
   "metadata": {},
   "outputs": [],
   "source": [
    "heatmap_no_transform, _, _ = np.histogram2d(np_umap_no_transform[:, 0], np_umap_no_transform[:, 1], bins=[edges, edges], density=True)\n",
    "heatmap_no_transform_25, _, _ = np.histogram2d(np_umap_no_transform_25[:, 0], np_umap_no_transform_25[:, 1], bins=[edges, edges], density=True)\n",
    "heatmap_no_transform_50, _, _ = np.histogram2d(np_umap_no_transform_50[:, 0], np_umap_no_transform_50[:, 1], bins=[edges, edges], density=True)\n",
    "heatmap_no_transform_75, _, _ = np.histogram2d(np_umap_no_transform_75[:, 0], np_umap_no_transform_75[:, 1], bins=[edges, edges], density=True)\n",
    "\n",
    "fig, ax = plt.subplots(\n",
    "    ncols=5, figsize=(20, 5), gridspec_kw=dict(width_ratios=[1,1,1,1,0.1]))\n",
    "\n",
    "vmin = min(heatmap_no_transform.min(), heatmap_no_transform_25.min(), heatmap_no_transform_50.min(), heatmap_no_transform_75.min())\n",
    "vmax = max(heatmap_no_transform.max(), heatmap_no_transform_25.max(), heatmap_no_transform_50.max(), heatmap_no_transform_75.max())\n",
    "\n",
    "sns.heatmap(heatmap_no_transform.T, ax=ax[0], cbar=False, vmin=vmin, vmax=vmax, xticklabels=10, yticklabels=10)\n",
    "sns.heatmap(heatmap_no_transform_25.T, ax=ax[1], cbar=False, vmin=vmin, vmax=vmax, xticklabels=10, yticklabels=False)\n",
    "sns.heatmap(heatmap_no_transform_50.T, ax=ax[2], cbar=False, vmin=vmin, vmax=vmax, xticklabels=10, yticklabels=False)\n",
    "sns.heatmap(heatmap_no_transform_75.T, ax=ax[3], cbar=False, vmin=vmin, vmax=vmax, xticklabels=10, yticklabels=False)\n",
    "\n",
    "ax[0].set_title('All records')\n",
    "ax[1].set_title('Drop 25% of records')\n",
    "ax[2].set_title('Drop 50% of records')\n",
    "ax[3].set_title('Drop 75% of records')\n",
    "\n",
    "ax[0].invert_yaxis()\n",
    "ax[1].invert_yaxis()\n",
    "ax[2].invert_yaxis()\n",
    "ax[3].invert_yaxis()\n",
    "\n",
    "fig.colorbar(ax[0].collections[0], cax=ax[4])\n",
    "\n",
    "plt.savefig('../output/drop_data_umap.png')\n"
   ]
  },
  {
   "cell_type": "code",
   "execution_count": null,
   "metadata": {},
   "outputs": [],
   "source": []
  }
 ],
 "metadata": {
  "kernelspec": {
   "display_name": "arc-model-similarities-phase-2",
   "language": "python",
   "name": "arc-model-similarities-phase-2"
  },
  "language_info": {
   "codemirror_mode": {
    "name": "ipython",
    "version": 3
   },
   "file_extension": ".py",
   "mimetype": "text/x-python",
   "name": "python",
   "nbconvert_exporter": "python",
   "pygments_lexer": "ipython3",
   "version": "3.10.11"
  },
  "orig_nbformat": 4
 },
 "nbformat": 4,
 "nbformat_minor": 2
}
